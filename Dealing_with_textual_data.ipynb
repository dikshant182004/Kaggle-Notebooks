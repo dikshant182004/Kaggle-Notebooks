{
  "nbformat": 4,
  "nbformat_minor": 0,
  "metadata": {
    "colab": {
      "provenance": [],
      "gpuType": "T4"
    },
    "kernelspec": {
      "name": "python3",
      "display_name": "Python 3"
    },
    "language_info": {
      "name": "python"
    },
    "accelerator": "GPU"
  },
  "cells": [
    {
      "cell_type": "code",
      "execution_count": null,
      "metadata": {
        "id": "UN7ZYxqWxQxW"
      },
      "outputs": [],
      "source": [
        "docs = ['go india',\n",
        "\t\t'india india',\n",
        "\t\t'hip hip hurray',\n",
        "\t\t'jeetega bhai jeetega india jeetega',\n",
        "\t\t'bharat mata ki jai',\n",
        "\t\t'kohli kohli',\n",
        "\t\t'sachin sachin',\n",
        "\t\t'dhoni dhoni',\n",
        "\t\t'modi ji ki jai',\n",
        "\t\t'inquilab zindabad']"
      ]
    },
    {
      "cell_type": "code",
      "source": [
        "import tensorflow as tf\n",
        "from tensorflow.keras.preprocessing.text import Tokenizer\n",
        "tokenizer = Tokenizer()"
      ],
      "metadata": {
        "id": "p0IWhTuTxa2m"
      },
      "execution_count": null,
      "outputs": []
    },
    {
      "cell_type": "code",
      "source": [
        "tokenizer.fit_on_texts(docs)"
      ],
      "metadata": {
        "id": "AdTYzJ55xpau"
      },
      "execution_count": null,
      "outputs": []
    },
    {
      "cell_type": "code",
      "source": [
        "tokenizer.word_index"
      ],
      "metadata": {
        "colab": {
          "base_uri": "https://localhost:8080/"
        },
        "id": "e2WnjosWyBOv",
        "outputId": "7f116d20-8843-4ebb-970f-1d64b82efd59"
      },
      "execution_count": null,
      "outputs": [
        {
          "output_type": "execute_result",
          "data": {
            "text/plain": [
              "{'india': 1,\n",
              " 'jeetega': 2,\n",
              " 'hip': 3,\n",
              " 'ki': 4,\n",
              " 'jai': 5,\n",
              " 'kohli': 6,\n",
              " 'sachin': 7,\n",
              " 'dhoni': 8,\n",
              " 'go': 9,\n",
              " 'hurray': 10,\n",
              " 'bhai': 11,\n",
              " 'bharat': 12,\n",
              " 'mata': 13,\n",
              " 'modi': 14,\n",
              " 'ji': 15,\n",
              " 'inquilab': 16,\n",
              " 'zindabad': 17}"
            ]
          },
          "metadata": {},
          "execution_count": 45
        }
      ]
    },
    {
      "cell_type": "code",
      "source": [
        "sequences = tokenizer.texts_to_sequences(docs)\n",
        "sequences"
      ],
      "metadata": {
        "colab": {
          "base_uri": "https://localhost:8080/"
        },
        "id": "bqVqR_ZAyJej",
        "outputId": "5997fcc7-1dbe-4a86-dc1e-7070379fb3d5"
      },
      "execution_count": null,
      "outputs": [
        {
          "output_type": "execute_result",
          "data": {
            "text/plain": [
              "[[9, 1],\n",
              " [1, 1],\n",
              " [3, 3, 10],\n",
              " [2, 11, 2, 1, 2],\n",
              " [12, 13, 4, 5],\n",
              " [6, 6],\n",
              " [7, 7],\n",
              " [8, 8],\n",
              " [14, 15, 4, 5],\n",
              " [16, 17]]"
            ]
          },
          "metadata": {},
          "execution_count": 46
        }
      ]
    },
    {
      "cell_type": "code",
      "source": [
        "from keras.utils import pad_sequences\n",
        "sequences = pad_sequences(sequences,padding='post')\n",
        "sequences"
      ],
      "metadata": {
        "colab": {
          "base_uri": "https://localhost:8080/"
        },
        "id": "nvXFnjO2yTYi",
        "outputId": "36993ec9-1a8d-4258-bfc2-957414d53a36"
      },
      "execution_count": null,
      "outputs": [
        {
          "output_type": "execute_result",
          "data": {
            "text/plain": [
              "array([[ 9,  1,  0,  0,  0],\n",
              "       [ 1,  1,  0,  0,  0],\n",
              "       [ 3,  3, 10,  0,  0],\n",
              "       [ 2, 11,  2,  1,  2],\n",
              "       [12, 13,  4,  5,  0],\n",
              "       [ 6,  6,  0,  0,  0],\n",
              "       [ 7,  7,  0,  0,  0],\n",
              "       [ 8,  8,  0,  0,  0],\n",
              "       [14, 15,  4,  5,  0],\n",
              "       [16, 17,  0,  0,  0]], dtype=int32)"
            ]
          },
          "metadata": {},
          "execution_count": 47
        }
      ]
    },
    {
      "cell_type": "markdown",
      "source": [],
      "metadata": {
        "id": "rgjbur4cn5wR"
      }
    },
    {
      "cell_type": "code",
      "source": [
        "from tensorflow import keras\n",
        "from keras import Sequential\n",
        "from keras.layers import Dense,Embedding"
      ],
      "metadata": {
        "id": "yclgAXCBy7JQ"
      },
      "execution_count": null,
      "outputs": []
    },
    {
      "cell_type": "code",
      "source": [
        "model = Sequential()\n",
        "model.add(Embedding(17,output_dim=2,input_shape=(5,)))\n",
        "model.summary()"
      ],
      "metadata": {
        "colab": {
          "base_uri": "https://localhost:8080/",
          "height": 162
        },
        "id": "wsRQsLBvyg47",
        "outputId": "05501831-d11d-454c-df41-b0c7db34ed25"
      },
      "execution_count": null,
      "outputs": [
        {
          "output_type": "display_data",
          "data": {
            "text/plain": [
              "\u001b[1mModel: \"sequential_6\"\u001b[0m\n"
            ],
            "text/html": [
              "<pre style=\"white-space:pre;overflow-x:auto;line-height:normal;font-family:Menlo,'DejaVu Sans Mono',consolas,'Courier New',monospace\"><span style=\"font-weight: bold\">Model: \"sequential_6\"</span>\n",
              "</pre>\n"
            ]
          },
          "metadata": {}
        },
        {
          "output_type": "display_data",
          "data": {
            "text/plain": [
              "┏━━━━━━━━━━━━━━━━━━━━━━━━━━━━━━━━━┳━━━━━━━━━━━━━━━━━━━━━━━━┳━━━━━━━━━━━━━━━┓\n",
              "┃\u001b[1m \u001b[0m\u001b[1mLayer (type)                   \u001b[0m\u001b[1m \u001b[0m┃\u001b[1m \u001b[0m\u001b[1mOutput Shape          \u001b[0m\u001b[1m \u001b[0m┃\u001b[1m \u001b[0m\u001b[1m      Param #\u001b[0m\u001b[1m \u001b[0m┃\n",
              "┡━━━━━━━━━━━━━━━━━━━━━━━━━━━━━━━━━╇━━━━━━━━━━━━━━━━━━━━━━━━╇━━━━━━━━━━━━━━━┩\n",
              "│ embedding_6 (\u001b[38;5;33mEmbedding\u001b[0m)         │ (\u001b[38;5;45mNone\u001b[0m, \u001b[38;5;34m5\u001b[0m, \u001b[38;5;34m2\u001b[0m)           │            \u001b[38;5;34m34\u001b[0m │\n",
              "└─────────────────────────────────┴────────────────────────┴───────────────┘\n"
            ],
            "text/html": [
              "<pre style=\"white-space:pre;overflow-x:auto;line-height:normal;font-family:Menlo,'DejaVu Sans Mono',consolas,'Courier New',monospace\">┏━━━━━━━━━━━━━━━━━━━━━━━━━━━━━━━━━┳━━━━━━━━━━━━━━━━━━━━━━━━┳━━━━━━━━━━━━━━━┓\n",
              "┃<span style=\"font-weight: bold\"> Layer (type)                    </span>┃<span style=\"font-weight: bold\"> Output Shape           </span>┃<span style=\"font-weight: bold\">       Param # </span>┃\n",
              "┡━━━━━━━━━━━━━━━━━━━━━━━━━━━━━━━━━╇━━━━━━━━━━━━━━━━━━━━━━━━╇━━━━━━━━━━━━━━━┩\n",
              "│ embedding_6 (<span style=\"color: #0087ff; text-decoration-color: #0087ff\">Embedding</span>)         │ (<span style=\"color: #00d7ff; text-decoration-color: #00d7ff\">None</span>, <span style=\"color: #00af00; text-decoration-color: #00af00\">5</span>, <span style=\"color: #00af00; text-decoration-color: #00af00\">2</span>)           │            <span style=\"color: #00af00; text-decoration-color: #00af00\">34</span> │\n",
              "└─────────────────────────────────┴────────────────────────┴───────────────┘\n",
              "</pre>\n"
            ]
          },
          "metadata": {}
        },
        {
          "output_type": "display_data",
          "data": {
            "text/plain": [
              "\u001b[1m Total params: \u001b[0m\u001b[38;5;34m34\u001b[0m (136.00 B)\n"
            ],
            "text/html": [
              "<pre style=\"white-space:pre;overflow-x:auto;line-height:normal;font-family:Menlo,'DejaVu Sans Mono',consolas,'Courier New',monospace\"><span style=\"font-weight: bold\"> Total params: </span><span style=\"color: #00af00; text-decoration-color: #00af00\">34</span> (136.00 B)\n",
              "</pre>\n"
            ]
          },
          "metadata": {}
        },
        {
          "output_type": "display_data",
          "data": {
            "text/plain": [
              "\u001b[1m Trainable params: \u001b[0m\u001b[38;5;34m34\u001b[0m (136.00 B)\n"
            ],
            "text/html": [
              "<pre style=\"white-space:pre;overflow-x:auto;line-height:normal;font-family:Menlo,'DejaVu Sans Mono',consolas,'Courier New',monospace\"><span style=\"font-weight: bold\"> Trainable params: </span><span style=\"color: #00af00; text-decoration-color: #00af00\">34</span> (136.00 B)\n",
              "</pre>\n"
            ]
          },
          "metadata": {}
        },
        {
          "output_type": "display_data",
          "data": {
            "text/plain": [
              "\u001b[1m Non-trainable params: \u001b[0m\u001b[38;5;34m0\u001b[0m (0.00 B)\n"
            ],
            "text/html": [
              "<pre style=\"white-space:pre;overflow-x:auto;line-height:normal;font-family:Menlo,'DejaVu Sans Mono',consolas,'Courier New',monospace\"><span style=\"font-weight: bold\"> Non-trainable params: </span><span style=\"color: #00af00; text-decoration-color: #00af00\">0</span> (0.00 B)\n",
              "</pre>\n"
            ]
          },
          "metadata": {}
        }
      ]
    },
    {
      "cell_type": "code",
      "source": [
        "model.compile('adam','accuracy')"
      ],
      "metadata": {
        "id": "TUFmIm36zdr-"
      },
      "execution_count": null,
      "outputs": []
    },
    {
      "cell_type": "code",
      "source": [
        "pred= model.predict(sequences)\n",
        "print(pred)"
      ],
      "metadata": {
        "colab": {
          "base_uri": "https://localhost:8080/",
          "height": 1000
        },
        "collapsed": true,
        "id": "GoJYrgeI0Plk",
        "outputId": "c50de764-128f-4a6e-a4d7-4a396afacb4a"
      },
      "execution_count": null,
      "outputs": [
        {
          "output_type": "error",
          "ename": "InvalidArgumentError",
          "evalue": "Graph execution error:\n\nDetected at node sequential_6_1/embedding_6_1/GatherV2 defined at (most recent call last):\n  File \"<frozen runpy>\", line 198, in _run_module_as_main\n\n  File \"<frozen runpy>\", line 88, in _run_code\n\n  File \"/usr/local/lib/python3.12/dist-packages/colab_kernel_launcher.py\", line 37, in <module>\n\n  File \"/usr/local/lib/python3.12/dist-packages/traitlets/config/application.py\", line 992, in launch_instance\n\n  File \"/usr/local/lib/python3.12/dist-packages/ipykernel/kernelapp.py\", line 712, in start\n\n  File \"/usr/local/lib/python3.12/dist-packages/tornado/platform/asyncio.py\", line 205, in start\n\n  File \"/usr/lib/python3.12/asyncio/base_events.py\", line 645, in run_forever\n\n  File \"/usr/lib/python3.12/asyncio/base_events.py\", line 1999, in _run_once\n\n  File \"/usr/lib/python3.12/asyncio/events.py\", line 88, in _run\n\n  File \"/usr/local/lib/python3.12/dist-packages/ipykernel/kernelbase.py\", line 510, in dispatch_queue\n\n  File \"/usr/local/lib/python3.12/dist-packages/ipykernel/kernelbase.py\", line 499, in process_one\n\n  File \"/usr/local/lib/python3.12/dist-packages/ipykernel/kernelbase.py\", line 406, in dispatch_shell\n\n  File \"/usr/local/lib/python3.12/dist-packages/ipykernel/kernelbase.py\", line 730, in execute_request\n\n  File \"/usr/local/lib/python3.12/dist-packages/ipykernel/ipkernel.py\", line 383, in do_execute\n\n  File \"/usr/local/lib/python3.12/dist-packages/ipykernel/zmqshell.py\", line 528, in run_cell\n\n  File \"/usr/local/lib/python3.12/dist-packages/IPython/core/interactiveshell.py\", line 2975, in run_cell\n\n  File \"/usr/local/lib/python3.12/dist-packages/IPython/core/interactiveshell.py\", line 3030, in _run_cell\n\n  File \"/usr/local/lib/python3.12/dist-packages/IPython/core/async_helpers.py\", line 78, in _pseudo_sync_runner\n\n  File \"/usr/local/lib/python3.12/dist-packages/IPython/core/interactiveshell.py\", line 3257, in run_cell_async\n\n  File \"/usr/local/lib/python3.12/dist-packages/IPython/core/interactiveshell.py\", line 3473, in run_ast_nodes\n\n  File \"/usr/local/lib/python3.12/dist-packages/IPython/core/interactiveshell.py\", line 3553, in run_code\n\n  File \"/tmp/ipython-input-2815916982.py\", line 1, in <cell line: 0>\n\n  File \"/usr/local/lib/python3.12/dist-packages/keras/src/utils/traceback_utils.py\", line 117, in error_handler\n\n  File \"/usr/local/lib/python3.12/dist-packages/keras/src/backend/tensorflow/trainer.py\", line 566, in predict\n\n  File \"/usr/local/lib/python3.12/dist-packages/keras/src/backend/tensorflow/trainer.py\", line 260, in one_step_on_data_distributed\n\n  File \"/usr/local/lib/python3.12/dist-packages/keras/src/backend/tensorflow/trainer.py\", line 250, in one_step_on_data\n\n  File \"/usr/local/lib/python3.12/dist-packages/keras/src/backend/tensorflow/trainer.py\", line 105, in predict_step\n\n  File \"/usr/local/lib/python3.12/dist-packages/keras/src/utils/traceback_utils.py\", line 117, in error_handler\n\n  File \"/usr/local/lib/python3.12/dist-packages/keras/src/layers/layer.py\", line 936, in __call__\n\n  File \"/usr/local/lib/python3.12/dist-packages/keras/src/utils/traceback_utils.py\", line 117, in error_handler\n\n  File \"/usr/local/lib/python3.12/dist-packages/keras/src/ops/operation.py\", line 58, in __call__\n\n  File \"/usr/local/lib/python3.12/dist-packages/keras/src/utils/traceback_utils.py\", line 156, in error_handler\n\n  File \"/usr/local/lib/python3.12/dist-packages/keras/src/models/sequential.py\", line 220, in call\n\n  File \"/usr/local/lib/python3.12/dist-packages/keras/src/models/functional.py\", line 183, in call\n\n  File \"/usr/local/lib/python3.12/dist-packages/keras/src/ops/function.py\", line 177, in _run_through_graph\n\n  File \"/usr/local/lib/python3.12/dist-packages/keras/src/models/functional.py\", line 648, in call\n\n  File \"/usr/local/lib/python3.12/dist-packages/keras/src/utils/traceback_utils.py\", line 117, in error_handler\n\n  File \"/usr/local/lib/python3.12/dist-packages/keras/src/layers/layer.py\", line 936, in __call__\n\n  File \"/usr/local/lib/python3.12/dist-packages/keras/src/utils/traceback_utils.py\", line 117, in error_handler\n\n  File \"/usr/local/lib/python3.12/dist-packages/keras/src/ops/operation.py\", line 58, in __call__\n\n  File \"/usr/local/lib/python3.12/dist-packages/keras/src/utils/traceback_utils.py\", line 156, in error_handler\n\n  File \"/usr/local/lib/python3.12/dist-packages/keras/src/layers/core/embedding.py\", line 150, in call\n\n  File \"/usr/local/lib/python3.12/dist-packages/keras/src/ops/numpy.py\", line 5581, in take\n\n  File \"/usr/local/lib/python3.12/dist-packages/keras/src/backend/tensorflow/numpy.py\", line 2274, in take\n\nindices[9,1] = 17 is not in [0, 17)\n\t [[{{node sequential_6_1/embedding_6_1/GatherV2}}]] [Op:__inference_one_step_on_data_distributed_48098]",
          "traceback": [
            "\u001b[0;31m---------------------------------------------------------------------------\u001b[0m",
            "\u001b[0;31mInvalidArgumentError\u001b[0m                      Traceback (most recent call last)",
            "\u001b[0;32m/tmp/ipython-input-2815916982.py\u001b[0m in \u001b[0;36m<cell line: 0>\u001b[0;34m()\u001b[0m\n\u001b[0;32m----> 1\u001b[0;31m \u001b[0mpred\u001b[0m\u001b[0;34m=\u001b[0m \u001b[0mmodel\u001b[0m\u001b[0;34m.\u001b[0m\u001b[0mpredict\u001b[0m\u001b[0;34m(\u001b[0m\u001b[0msequences\u001b[0m\u001b[0;34m)\u001b[0m\u001b[0;34m\u001b[0m\u001b[0;34m\u001b[0m\u001b[0m\n\u001b[0m\u001b[1;32m      2\u001b[0m \u001b[0mprint\u001b[0m\u001b[0;34m(\u001b[0m\u001b[0mpred\u001b[0m\u001b[0;34m)\u001b[0m\u001b[0;34m\u001b[0m\u001b[0;34m\u001b[0m\u001b[0m\n",
            "\u001b[0;32m/usr/local/lib/python3.12/dist-packages/keras/src/utils/traceback_utils.py\u001b[0m in \u001b[0;36merror_handler\u001b[0;34m(*args, **kwargs)\u001b[0m\n\u001b[1;32m    120\u001b[0m             \u001b[0;31m# To get the full stack trace, call:\u001b[0m\u001b[0;34m\u001b[0m\u001b[0;34m\u001b[0m\u001b[0m\n\u001b[1;32m    121\u001b[0m             \u001b[0;31m# `keras.config.disable_traceback_filtering()`\u001b[0m\u001b[0;34m\u001b[0m\u001b[0;34m\u001b[0m\u001b[0m\n\u001b[0;32m--> 122\u001b[0;31m             \u001b[0;32mraise\u001b[0m \u001b[0me\u001b[0m\u001b[0;34m.\u001b[0m\u001b[0mwith_traceback\u001b[0m\u001b[0;34m(\u001b[0m\u001b[0mfiltered_tb\u001b[0m\u001b[0;34m)\u001b[0m \u001b[0;32mfrom\u001b[0m \u001b[0;32mNone\u001b[0m\u001b[0;34m\u001b[0m\u001b[0;34m\u001b[0m\u001b[0m\n\u001b[0m\u001b[1;32m    123\u001b[0m         \u001b[0;32mfinally\u001b[0m\u001b[0;34m:\u001b[0m\u001b[0;34m\u001b[0m\u001b[0;34m\u001b[0m\u001b[0m\n\u001b[1;32m    124\u001b[0m             \u001b[0;32mdel\u001b[0m \u001b[0mfiltered_tb\u001b[0m\u001b[0;34m\u001b[0m\u001b[0;34m\u001b[0m\u001b[0m\n",
            "\u001b[0;32m/usr/local/lib/python3.12/dist-packages/tensorflow/python/eager/execute.py\u001b[0m in \u001b[0;36mquick_execute\u001b[0;34m(op_name, num_outputs, inputs, attrs, ctx, name)\u001b[0m\n\u001b[1;32m     57\u001b[0m       \u001b[0me\u001b[0m\u001b[0;34m.\u001b[0m\u001b[0mmessage\u001b[0m \u001b[0;34m+=\u001b[0m \u001b[0;34m\" name: \"\u001b[0m \u001b[0;34m+\u001b[0m \u001b[0mname\u001b[0m\u001b[0;34m\u001b[0m\u001b[0;34m\u001b[0m\u001b[0m\n\u001b[1;32m     58\u001b[0m     \u001b[0;32mraise\u001b[0m \u001b[0mcore\u001b[0m\u001b[0;34m.\u001b[0m\u001b[0m_status_to_exception\u001b[0m\u001b[0;34m(\u001b[0m\u001b[0me\u001b[0m\u001b[0;34m)\u001b[0m \u001b[0;32mfrom\u001b[0m \u001b[0;32mNone\u001b[0m\u001b[0;34m\u001b[0m\u001b[0;34m\u001b[0m\u001b[0m\n\u001b[0;32m---> 59\u001b[0;31m   \u001b[0;32mexcept\u001b[0m \u001b[0mTypeError\u001b[0m \u001b[0;32mas\u001b[0m \u001b[0me\u001b[0m\u001b[0;34m:\u001b[0m\u001b[0;34m\u001b[0m\u001b[0;34m\u001b[0m\u001b[0m\n\u001b[0m\u001b[1;32m     60\u001b[0m     \u001b[0mkeras_symbolic_tensors\u001b[0m \u001b[0;34m=\u001b[0m \u001b[0;34m[\u001b[0m\u001b[0mx\u001b[0m \u001b[0;32mfor\u001b[0m \u001b[0mx\u001b[0m \u001b[0;32min\u001b[0m \u001b[0minputs\u001b[0m \u001b[0;32mif\u001b[0m \u001b[0m_is_keras_symbolic_tensor\u001b[0m\u001b[0;34m(\u001b[0m\u001b[0mx\u001b[0m\u001b[0;34m)\u001b[0m\u001b[0;34m]\u001b[0m\u001b[0;34m\u001b[0m\u001b[0;34m\u001b[0m\u001b[0m\n\u001b[1;32m     61\u001b[0m     \u001b[0;32mif\u001b[0m \u001b[0mkeras_symbolic_tensors\u001b[0m\u001b[0;34m:\u001b[0m\u001b[0;34m\u001b[0m\u001b[0;34m\u001b[0m\u001b[0m\n",
            "\u001b[0;31mInvalidArgumentError\u001b[0m: Graph execution error:\n\nDetected at node sequential_6_1/embedding_6_1/GatherV2 defined at (most recent call last):\n  File \"<frozen runpy>\", line 198, in _run_module_as_main\n\n  File \"<frozen runpy>\", line 88, in _run_code\n\n  File \"/usr/local/lib/python3.12/dist-packages/colab_kernel_launcher.py\", line 37, in <module>\n\n  File \"/usr/local/lib/python3.12/dist-packages/traitlets/config/application.py\", line 992, in launch_instance\n\n  File \"/usr/local/lib/python3.12/dist-packages/ipykernel/kernelapp.py\", line 712, in start\n\n  File \"/usr/local/lib/python3.12/dist-packages/tornado/platform/asyncio.py\", line 205, in start\n\n  File \"/usr/lib/python3.12/asyncio/base_events.py\", line 645, in run_forever\n\n  File \"/usr/lib/python3.12/asyncio/base_events.py\", line 1999, in _run_once\n\n  File \"/usr/lib/python3.12/asyncio/events.py\", line 88, in _run\n\n  File \"/usr/local/lib/python3.12/dist-packages/ipykernel/kernelbase.py\", line 510, in dispatch_queue\n\n  File \"/usr/local/lib/python3.12/dist-packages/ipykernel/kernelbase.py\", line 499, in process_one\n\n  File \"/usr/local/lib/python3.12/dist-packages/ipykernel/kernelbase.py\", line 406, in dispatch_shell\n\n  File \"/usr/local/lib/python3.12/dist-packages/ipykernel/kernelbase.py\", line 730, in execute_request\n\n  File \"/usr/local/lib/python3.12/dist-packages/ipykernel/ipkernel.py\", line 383, in do_execute\n\n  File \"/usr/local/lib/python3.12/dist-packages/ipykernel/zmqshell.py\", line 528, in run_cell\n\n  File \"/usr/local/lib/python3.12/dist-packages/IPython/core/interactiveshell.py\", line 2975, in run_cell\n\n  File \"/usr/local/lib/python3.12/dist-packages/IPython/core/interactiveshell.py\", line 3030, in _run_cell\n\n  File \"/usr/local/lib/python3.12/dist-packages/IPython/core/async_helpers.py\", line 78, in _pseudo_sync_runner\n\n  File \"/usr/local/lib/python3.12/dist-packages/IPython/core/interactiveshell.py\", line 3257, in run_cell_async\n\n  File \"/usr/local/lib/python3.12/dist-packages/IPython/core/interactiveshell.py\", line 3473, in run_ast_nodes\n\n  File \"/usr/local/lib/python3.12/dist-packages/IPython/core/interactiveshell.py\", line 3553, in run_code\n\n  File \"/tmp/ipython-input-2815916982.py\", line 1, in <cell line: 0>\n\n  File \"/usr/local/lib/python3.12/dist-packages/keras/src/utils/traceback_utils.py\", line 117, in error_handler\n\n  File \"/usr/local/lib/python3.12/dist-packages/keras/src/backend/tensorflow/trainer.py\", line 566, in predict\n\n  File \"/usr/local/lib/python3.12/dist-packages/keras/src/backend/tensorflow/trainer.py\", line 260, in one_step_on_data_distributed\n\n  File \"/usr/local/lib/python3.12/dist-packages/keras/src/backend/tensorflow/trainer.py\", line 250, in one_step_on_data\n\n  File \"/usr/local/lib/python3.12/dist-packages/keras/src/backend/tensorflow/trainer.py\", line 105, in predict_step\n\n  File \"/usr/local/lib/python3.12/dist-packages/keras/src/utils/traceback_utils.py\", line 117, in error_handler\n\n  File \"/usr/local/lib/python3.12/dist-packages/keras/src/layers/layer.py\", line 936, in __call__\n\n  File \"/usr/local/lib/python3.12/dist-packages/keras/src/utils/traceback_utils.py\", line 117, in error_handler\n\n  File \"/usr/local/lib/python3.12/dist-packages/keras/src/ops/operation.py\", line 58, in __call__\n\n  File \"/usr/local/lib/python3.12/dist-packages/keras/src/utils/traceback_utils.py\", line 156, in error_handler\n\n  File \"/usr/local/lib/python3.12/dist-packages/keras/src/models/sequential.py\", line 220, in call\n\n  File \"/usr/local/lib/python3.12/dist-packages/keras/src/models/functional.py\", line 183, in call\n\n  File \"/usr/local/lib/python3.12/dist-packages/keras/src/ops/function.py\", line 177, in _run_through_graph\n\n  File \"/usr/local/lib/python3.12/dist-packages/keras/src/models/functional.py\", line 648, in call\n\n  File \"/usr/local/lib/python3.12/dist-packages/keras/src/utils/traceback_utils.py\", line 117, in error_handler\n\n  File \"/usr/local/lib/python3.12/dist-packages/keras/src/layers/layer.py\", line 936, in __call__\n\n  File \"/usr/local/lib/python3.12/dist-packages/keras/src/utils/traceback_utils.py\", line 117, in error_handler\n\n  File \"/usr/local/lib/python3.12/dist-packages/keras/src/ops/operation.py\", line 58, in __call__\n\n  File \"/usr/local/lib/python3.12/dist-packages/keras/src/utils/traceback_utils.py\", line 156, in error_handler\n\n  File \"/usr/local/lib/python3.12/dist-packages/keras/src/layers/core/embedding.py\", line 150, in call\n\n  File \"/usr/local/lib/python3.12/dist-packages/keras/src/ops/numpy.py\", line 5581, in take\n\n  File \"/usr/local/lib/python3.12/dist-packages/keras/src/backend/tensorflow/numpy.py\", line 2274, in take\n\nindices[9,1] = 17 is not in [0, 17)\n\t [[{{node sequential_6_1/embedding_6_1/GatherV2}}]] [Op:__inference_one_step_on_data_distributed_48098]"
          ]
        }
      ]
    },
    {
      "cell_type": "code",
      "source": [
        "from keras.datasets import imdb\n",
        "from tensorflow.keras.preprocessing.text import Tokenizer\n",
        "from keras.utils import pad_sequences\n",
        "from keras import Sequential\n",
        "from keras.layers import Dense,SimpleRNN,Embedding,Flatten"
      ],
      "metadata": {
        "id": "4GnV0roWkeNy"
      },
      "execution_count": null,
      "outputs": []
    },
    {
      "cell_type": "code",
      "source": [
        "(X_train,y_train),(X_test,y_test) = imdb.load_data(num_words=10000)"
      ],
      "metadata": {
        "id": "O6ZPB_lZlCTp"
      },
      "execution_count": null,
      "outputs": []
    },
    {
      "cell_type": "code",
      "source": [
        "X_train = pad_sequences(X_train,padding='post',maxlen=50)\n",
        "X_test = pad_sequences(X_test,padding='post',maxlen=50)"
      ],
      "metadata": {
        "id": "7wm2KoCulK8D"
      },
      "execution_count": null,
      "outputs": []
    },
    {
      "cell_type": "code",
      "source": [
        "X_train[0]"
      ],
      "metadata": {
        "colab": {
          "base_uri": "https://localhost:8080/"
        },
        "id": "krPD4oLQor8m",
        "outputId": "8d9ea62b-d118-4b8c-89f0-d6801f07c9a2"
      },
      "execution_count": null,
      "outputs": [
        {
          "output_type": "execute_result",
          "data": {
            "text/plain": [
              "array([2071,   56,   26,  141,    6,  194, 7486,   18,    4,  226,   22,\n",
              "         21,  134,  476,   26,  480,    5,  144,   30, 5535,   18,   51,\n",
              "         36,   28,  224,   92,   25,  104,    4,  226,   65,   16,   38,\n",
              "       1334,   88,   12,   16,  283,    5,   16, 4472,  113,  103,   32,\n",
              "         15,   16, 5345,   19,  178,   32], dtype=int32)"
            ]
          },
          "metadata": {},
          "execution_count": 36
        }
      ]
    },
    {
      "cell_type": "code",
      "source": [
        "import numpy as np\n",
        "max_index = np.max(X_train)\n",
        "print(max_index)"
      ],
      "metadata": {
        "colab": {
          "base_uri": "https://localhost:8080/"
        },
        "id": "md1lHh9Nledy",
        "outputId": "56ab5786-1da2-4c0a-e042-0ddc8da4fbfc"
      },
      "execution_count": null,
      "outputs": [
        {
          "output_type": "stream",
          "name": "stdout",
          "text": [
            "9999\n"
          ]
        }
      ]
    },
    {
      "cell_type": "code",
      "source": [
        "model= Sequential()\n",
        "model.add(Embedding(input_dim=10000, output_dim=2, input_shape=(50,)))\n",
        "model.add(SimpleRNN(32,return_sequences=False))\n",
        "model.add(Dense(1,activation='sigmoid'))\n",
        "model.summary()"
      ],
      "metadata": {
        "colab": {
          "base_uri": "https://localhost:8080/",
          "height": 281
        },
        "id": "TCcJLe2jlPPp",
        "outputId": "ecf53661-2d5e-47b5-f3e4-06a2a2544f32"
      },
      "execution_count": null,
      "outputs": [
        {
          "output_type": "stream",
          "name": "stderr",
          "text": [
            "/usr/local/lib/python3.12/dist-packages/keras/src/layers/core/embedding.py:100: UserWarning: Do not pass an `input_shape`/`input_dim` argument to a layer. When using Sequential models, prefer using an `Input(shape)` object as the first layer in the model instead.\n",
            "  super().__init__(**kwargs)\n"
          ]
        },
        {
          "output_type": "display_data",
          "data": {
            "text/plain": [
              "\u001b[1mModel: \"sequential_5\"\u001b[0m\n"
            ],
            "text/html": [
              "<pre style=\"white-space:pre;overflow-x:auto;line-height:normal;font-family:Menlo,'DejaVu Sans Mono',consolas,'Courier New',monospace\"><span style=\"font-weight: bold\">Model: \"sequential_5\"</span>\n",
              "</pre>\n"
            ]
          },
          "metadata": {}
        },
        {
          "output_type": "display_data",
          "data": {
            "text/plain": [
              "┏━━━━━━━━━━━━━━━━━━━━━━━━━━━━━━━━━┳━━━━━━━━━━━━━━━━━━━━━━━━┳━━━━━━━━━━━━━━━┓\n",
              "┃\u001b[1m \u001b[0m\u001b[1mLayer (type)                   \u001b[0m\u001b[1m \u001b[0m┃\u001b[1m \u001b[0m\u001b[1mOutput Shape          \u001b[0m\u001b[1m \u001b[0m┃\u001b[1m \u001b[0m\u001b[1m      Param #\u001b[0m\u001b[1m \u001b[0m┃\n",
              "┡━━━━━━━━━━━━━━━━━━━━━━━━━━━━━━━━━╇━━━━━━━━━━━━━━━━━━━━━━━━╇━━━━━━━━━━━━━━━┩\n",
              "│ embedding_5 (\u001b[38;5;33mEmbedding\u001b[0m)         │ (\u001b[38;5;45mNone\u001b[0m, \u001b[38;5;34m50\u001b[0m, \u001b[38;5;34m2\u001b[0m)          │        \u001b[38;5;34m20,000\u001b[0m │\n",
              "├─────────────────────────────────┼────────────────────────┼───────────────┤\n",
              "│ simple_rnn_2 (\u001b[38;5;33mSimpleRNN\u001b[0m)        │ (\u001b[38;5;45mNone\u001b[0m, \u001b[38;5;34m32\u001b[0m)             │         \u001b[38;5;34m1,120\u001b[0m │\n",
              "├─────────────────────────────────┼────────────────────────┼───────────────┤\n",
              "│ dense_2 (\u001b[38;5;33mDense\u001b[0m)                 │ (\u001b[38;5;45mNone\u001b[0m, \u001b[38;5;34m1\u001b[0m)              │            \u001b[38;5;34m33\u001b[0m │\n",
              "└─────────────────────────────────┴────────────────────────┴───────────────┘\n"
            ],
            "text/html": [
              "<pre style=\"white-space:pre;overflow-x:auto;line-height:normal;font-family:Menlo,'DejaVu Sans Mono',consolas,'Courier New',monospace\">┏━━━━━━━━━━━━━━━━━━━━━━━━━━━━━━━━━┳━━━━━━━━━━━━━━━━━━━━━━━━┳━━━━━━━━━━━━━━━┓\n",
              "┃<span style=\"font-weight: bold\"> Layer (type)                    </span>┃<span style=\"font-weight: bold\"> Output Shape           </span>┃<span style=\"font-weight: bold\">       Param # </span>┃\n",
              "┡━━━━━━━━━━━━━━━━━━━━━━━━━━━━━━━━━╇━━━━━━━━━━━━━━━━━━━━━━━━╇━━━━━━━━━━━━━━━┩\n",
              "│ embedding_5 (<span style=\"color: #0087ff; text-decoration-color: #0087ff\">Embedding</span>)         │ (<span style=\"color: #00d7ff; text-decoration-color: #00d7ff\">None</span>, <span style=\"color: #00af00; text-decoration-color: #00af00\">50</span>, <span style=\"color: #00af00; text-decoration-color: #00af00\">2</span>)          │        <span style=\"color: #00af00; text-decoration-color: #00af00\">20,000</span> │\n",
              "├─────────────────────────────────┼────────────────────────┼───────────────┤\n",
              "│ simple_rnn_2 (<span style=\"color: #0087ff; text-decoration-color: #0087ff\">SimpleRNN</span>)        │ (<span style=\"color: #00d7ff; text-decoration-color: #00d7ff\">None</span>, <span style=\"color: #00af00; text-decoration-color: #00af00\">32</span>)             │         <span style=\"color: #00af00; text-decoration-color: #00af00\">1,120</span> │\n",
              "├─────────────────────────────────┼────────────────────────┼───────────────┤\n",
              "│ dense_2 (<span style=\"color: #0087ff; text-decoration-color: #0087ff\">Dense</span>)                 │ (<span style=\"color: #00d7ff; text-decoration-color: #00d7ff\">None</span>, <span style=\"color: #00af00; text-decoration-color: #00af00\">1</span>)              │            <span style=\"color: #00af00; text-decoration-color: #00af00\">33</span> │\n",
              "└─────────────────────────────────┴────────────────────────┴───────────────┘\n",
              "</pre>\n"
            ]
          },
          "metadata": {}
        },
        {
          "output_type": "display_data",
          "data": {
            "text/plain": [
              "\u001b[1m Total params: \u001b[0m\u001b[38;5;34m21,153\u001b[0m (82.63 KB)\n"
            ],
            "text/html": [
              "<pre style=\"white-space:pre;overflow-x:auto;line-height:normal;font-family:Menlo,'DejaVu Sans Mono',consolas,'Courier New',monospace\"><span style=\"font-weight: bold\"> Total params: </span><span style=\"color: #00af00; text-decoration-color: #00af00\">21,153</span> (82.63 KB)\n",
              "</pre>\n"
            ]
          },
          "metadata": {}
        },
        {
          "output_type": "display_data",
          "data": {
            "text/plain": [
              "\u001b[1m Trainable params: \u001b[0m\u001b[38;5;34m21,153\u001b[0m (82.63 KB)\n"
            ],
            "text/html": [
              "<pre style=\"white-space:pre;overflow-x:auto;line-height:normal;font-family:Menlo,'DejaVu Sans Mono',consolas,'Courier New',monospace\"><span style=\"font-weight: bold\"> Trainable params: </span><span style=\"color: #00af00; text-decoration-color: #00af00\">21,153</span> (82.63 KB)\n",
              "</pre>\n"
            ]
          },
          "metadata": {}
        },
        {
          "output_type": "display_data",
          "data": {
            "text/plain": [
              "\u001b[1m Non-trainable params: \u001b[0m\u001b[38;5;34m0\u001b[0m (0.00 B)\n"
            ],
            "text/html": [
              "<pre style=\"white-space:pre;overflow-x:auto;line-height:normal;font-family:Menlo,'DejaVu Sans Mono',consolas,'Courier New',monospace\"><span style=\"font-weight: bold\"> Non-trainable params: </span><span style=\"color: #00af00; text-decoration-color: #00af00\">0</span> (0.00 B)\n",
              "</pre>\n"
            ]
          },
          "metadata": {}
        }
      ]
    },
    {
      "cell_type": "code",
      "source": [
        "print(X_train.shape, X_train.dtype, y_train.shape, y_train[:10])"
      ],
      "metadata": {
        "colab": {
          "base_uri": "https://localhost:8080/"
        },
        "id": "m__c18bkmiTh",
        "outputId": "d88bbee9-13ff-429a-fbc6-2b74029ec7c0"
      },
      "execution_count": null,
      "outputs": [
        {
          "output_type": "stream",
          "name": "stdout",
          "text": [
            "(25000, 50) int32 (25000,) [1 0 0 1 0 0 1 0 1 0]\n"
          ]
        }
      ]
    },
    {
      "cell_type": "code",
      "source": [
        "model.compile(optimizer='adam', loss='binary_crossentropy', metrics=['acc'])\n",
        "history = model.fit(X_train, y_train,epochs=5,validation_data=(X_test,y_test))"
      ],
      "metadata": {
        "colab": {
          "base_uri": "https://localhost:8080/"
        },
        "id": "GQzqxHQElz0Y",
        "outputId": "332ea8fb-e0b5-4aea-8068-07a7f4625dc6"
      },
      "execution_count": null,
      "outputs": [
        {
          "output_type": "stream",
          "name": "stdout",
          "text": [
            "Epoch 1/5\n",
            "\u001b[1m782/782\u001b[0m \u001b[32m━━━━━━━━━━━━━━━━━━━━\u001b[0m\u001b[37m\u001b[0m \u001b[1m16s\u001b[0m 18ms/step - acc: 0.5668 - loss: 0.6618 - val_acc: 0.7932 - val_loss: 0.4526\n",
            "Epoch 2/5\n",
            "\u001b[1m782/782\u001b[0m \u001b[32m━━━━━━━━━━━━━━━━━━━━\u001b[0m\u001b[37m\u001b[0m \u001b[1m20s\u001b[0m 18ms/step - acc: 0.8267 - loss: 0.3925 - val_acc: 0.8105 - val_loss: 0.4182\n",
            "Epoch 3/5\n",
            "\u001b[1m782/782\u001b[0m \u001b[32m━━━━━━━━━━━━━━━━━━━━\u001b[0m\u001b[37m\u001b[0m \u001b[1m12s\u001b[0m 15ms/step - acc: 0.8703 - loss: 0.3184 - val_acc: 0.8046 - val_loss: 0.4497\n",
            "Epoch 4/5\n",
            "\u001b[1m782/782\u001b[0m \u001b[32m━━━━━━━━━━━━━━━━━━━━\u001b[0m\u001b[37m\u001b[0m \u001b[1m20s\u001b[0m 15ms/step - acc: 0.8947 - loss: 0.2725 - val_acc: 0.8004 - val_loss: 0.4743\n",
            "Epoch 5/5\n",
            "\u001b[1m782/782\u001b[0m \u001b[32m━━━━━━━━━━━━━━━━━━━━\u001b[0m\u001b[37m\u001b[0m \u001b[1m20s\u001b[0m 14ms/step - acc: 0.9067 - loss: 0.2484 - val_acc: 0.7996 - val_loss: 0.5019\n"
          ]
        }
      ]
    },
    {
      "cell_type": "markdown",
      "source": [
        "## Now we will explore the world of seqtoseq models using lstm ,gru's on the machine translation taks\n"
      ],
      "metadata": {
        "id": "iRr_gRGXWHd9"
      }
    },
    {
      "cell_type": "code",
      "source": [
        "!mkdir -p ~/.kaggle\n",
        "!cp kaggle.json ~/.kaggle"
      ],
      "metadata": {
        "id": "jeRN80sCmUM7"
      },
      "execution_count": 1,
      "outputs": []
    },
    {
      "cell_type": "code",
      "source": [
        "!kaggle datasets download -d alincijov/bilingual-sentence-pairs"
      ],
      "metadata": {
        "colab": {
          "base_uri": "https://localhost:8080/"
        },
        "id": "OpxnNX5dW5VD",
        "outputId": "b26a77b9-3527-40dd-a0ad-8311382cd327"
      },
      "execution_count": 2,
      "outputs": [
        {
          "output_type": "stream",
          "name": "stdout",
          "text": [
            "Warning: Your Kaggle API key is readable by other users on this system! To fix this, you can run 'chmod 600 /root/.kaggle/kaggle.json'\n",
            "Dataset URL: https://www.kaggle.com/datasets/alincijov/bilingual-sentence-pairs\n",
            "License(s): unknown\n",
            "Downloading bilingual-sentence-pairs.zip to /content\n",
            "  0% 0.00/99.7M [00:00<?, ?B/s]\n",
            "100% 99.7M/99.7M [00:00<00:00, 1.39GB/s]\n"
          ]
        }
      ]
    },
    {
      "cell_type": "code",
      "source": [
        "import zipfile\n",
        "zip_loc= zipfile.ZipFile('/content/bilingual-sentence-pairs.zip','r')\n",
        "zip_loc.extractall('/content')\n",
        "zip_loc.close()"
      ],
      "metadata": {
        "id": "rgsadlMzXM1w"
      },
      "execution_count": 3,
      "outputs": []
    },
    {
      "cell_type": "code",
      "source": [
        "import numpy as np\n",
        "import pandas as pd\n",
        "import matplotlib.pyplot as plt\n",
        "import tensorflow as tf\n",
        "from tensorflow.keras.preprocessing.text import Tokenizer\n",
        "from keras.utils import pad_sequences\n",
        "from keras import Sequential, regularizers\n",
        "from keras.layers import Dense,Flatten,Embedding,LSTM,GRU,Bidirectional,RepeatVector,Dropout, LayerNormalization\n",
        "from keras.callbacks import ModelCheckpoint"
      ],
      "metadata": {
        "id": "K3ZiG2vRZVIW"
      },
      "execution_count": 35,
      "outputs": []
    },
    {
      "cell_type": "code",
      "source": [
        "# function to read raw text file\n",
        "def read_text(filename):\n",
        "        # open the file\n",
        "        file = open(filename, mode='rt', encoding='utf-8')\n",
        "\n",
        "        # read all text\n",
        "        text = file.read()\n",
        "        file.close()\n",
        "        return text"
      ],
      "metadata": {
        "id": "zksfipMXXQ6J"
      },
      "execution_count": 5,
      "outputs": []
    },
    {
      "cell_type": "code",
      "source": [
        "# split a text into sentences\n",
        "def to_lines(text):\n",
        "    sents = text.strip().split('\\n')\n",
        "    sents = [i.split('\\t') for i in sents]\n",
        "    return sents"
      ],
      "metadata": {
        "id": "3riOXvapY_3C"
      },
      "execution_count": 6,
      "outputs": []
    },
    {
      "cell_type": "code",
      "source": [
        "data = read_text(\"/content/hin.txt\")\n",
        "hin_eng = to_lines(data)\n",
        "hin_eng = np.array(hin_eng)"
      ],
      "metadata": {
        "id": "mVVcZT0NZI5k"
      },
      "execution_count": 7,
      "outputs": []
    },
    {
      "cell_type": "code",
      "source": [
        "hin_eng[0]"
      ],
      "metadata": {
        "colab": {
          "base_uri": "https://localhost:8080/"
        },
        "id": "GRbHF1bsZhpy",
        "outputId": "fe8aa724-476c-43c5-8bd3-1f9dbdecb79c"
      },
      "execution_count": 8,
      "outputs": [
        {
          "output_type": "execute_result",
          "data": {
            "text/plain": [
              "array(['Wow!', 'वाह!',\n",
              "       'CC-BY 2.0 (France) Attribution: tatoeba.org #52027 (Zifre) & #6179147 (fastrizwaan)'],\n",
              "      dtype='<U121')"
            ]
          },
          "metadata": {},
          "execution_count": 8
        }
      ]
    },
    {
      "cell_type": "code",
      "source": [
        "# string.punctuation = \"!\"#$%&'()*+,-./:;<=>?@[\\]^_{|}~\"\n",
        "\n",
        "# str.maketrans('', '', string.punctuation) creates a translation table that tells Python:\n",
        "# → \"remove all punctuation characters.\"\n",
        "import string\n",
        "hin_eng[:,0] = [s.translate(str.maketrans('', '', string.punctuation)) for s in hin_eng[:,0]] # eng words\n",
        "hin_eng[:,1] = [s.translate(str.maketrans('', '', string.punctuation)) for s in hin_eng[:,1]] # hindi words\n",
        "\n",
        "hin_eng[0]"
      ],
      "metadata": {
        "colab": {
          "base_uri": "https://localhost:8080/"
        },
        "id": "uuk8p-gkZm81",
        "outputId": "93fc5da4-9ecb-4cc5-ea32-daadfa2f5168"
      },
      "execution_count": 9,
      "outputs": [
        {
          "output_type": "execute_result",
          "data": {
            "text/plain": [
              "array(['Wow', 'वाह',\n",
              "       'CC-BY 2.0 (France) Attribution: tatoeba.org #52027 (Zifre) & #6179147 (fastrizwaan)'],\n",
              "      dtype='<U121')"
            ]
          },
          "metadata": {},
          "execution_count": 9
        }
      ]
    },
    {
      "cell_type": "code",
      "source": [
        "# convert text to lowercase\n",
        "for i in range(len(hin_eng)):\n",
        "    hin_eng[i,0] = hin_eng[i,0].lower()\n",
        "    hin_eng[i,1] = hin_eng[i,1].lower()"
      ],
      "metadata": {
        "id": "-md8OSY6bK3R"
      },
      "execution_count": 10,
      "outputs": []
    },
    {
      "cell_type": "code",
      "source": [
        "hin_eng[-1]"
      ],
      "metadata": {
        "colab": {
          "base_uri": "https://localhost:8080/"
        },
        "id": "-OC_oOobbiIN",
        "outputId": "f0c6f862-9ff0-474f-aeab-381fa50ed5a3"
      },
      "execution_count": 11,
      "outputs": [
        {
          "output_type": "execute_result",
          "data": {
            "text/plain": [
              "array(['when i was a kid touching bugs didnt bother me a bit now i can hardly stand looking at pictures of them',\n",
              "       'जब मैं बच्चा था मुझे कीड़ों को छूने से कोई परेशानी नहीं होती थी पर अब मैं उनकी तस्वीरें देखना भी बर्दाश्त नहीं कर सकता।',\n",
              "       'CC-BY 2.0 (France) Attribution: tatoeba.org #272157 (CM) & #485964 (minshirui)'],\n",
              "      dtype='<U121')"
            ]
          },
          "metadata": {},
          "execution_count": 11
        }
      ]
    },
    {
      "cell_type": "code",
      "source": [
        "eng_l = []\n",
        "hin_l = []\n",
        "\n",
        "# populate the lists with sentence lengths\n",
        "for i in hin_eng[:,0]:\n",
        "      eng_l.append(len(i.split()))\n",
        "\n",
        "for i in hin_eng[:,1]:\n",
        "      hin_l.append(len(i.split()))\n",
        "\n",
        "length_df = pd.DataFrame({'eng':eng_l, 'hin':hin_l})\n",
        "length_df.hist(bins = 30)\n",
        "plt.show()"
      ],
      "metadata": {
        "colab": {
          "base_uri": "https://localhost:8080/",
          "height": 452
        },
        "id": "XRBbnLtIbkuU",
        "outputId": "f464978f-280a-4a97-add0-3aa827d59d17"
      },
      "execution_count": 12,
      "outputs": [
        {
          "output_type": "display_data",
          "data": {
            "text/plain": [
              "<Figure size 640x480 with 2 Axes>"
            ],
            "image/png": "[encoded data removed]"
          },
          "metadata": {}
        }
      ]
    },
    {
      "cell_type": "markdown",
      "source": [
        "this shows that the sequence input and output value is of variable length\n",
        "A Seq2Seq model requires that we convert both the input and the output sentences into integer sequences of fixed length."
      ],
      "metadata": {
        "id": "fs_7qtG-d706"
      }
    },
    {
      "cell_type": "code",
      "source": [
        "def tokenization(docs):\n",
        "  tokenizer = Tokenizer()\n",
        "  tokenizer.fit_on_texts(docs)\n",
        "  return tokenizer"
      ],
      "metadata": {
        "id": "slXA5BXJdGjN"
      },
      "execution_count": 13,
      "outputs": []
    },
    {
      "cell_type": "code",
      "source": [
        "eng_tok = tokenization(hin_eng[:,0])\n",
        "eng_vocab = len(eng_tok.word_index) +1\n",
        "# eng words tokenization\n",
        "\n",
        "hin_tok = tokenization(hin_eng[:,1])\n",
        "hin_vocab = len(hin_tok.word_index)+1"
      ],
      "metadata": {
        "id": "9pdvpqyZfxpC"
      },
      "execution_count": 14,
      "outputs": []
    },
    {
      "cell_type": "code",
      "source": [
        "hin_tok.word_index"
      ],
      "metadata": {
        "colab": {
          "base_uri": "https://localhost:8080/"
        },
        "collapsed": true,
        "id": "rY8m8Zz3gSdE",
        "outputId": "54ca4d7c-1bfb-4f43-edb0-4a134531b2e2"
      },
      "execution_count": null,
      "outputs": [
        {
          "output_type": "execute_result",
          "data": {
            "text/plain": [
              "{'है।': 1,\n",
              " 'में': 2,\n",
              " 'नहीं': 3,\n",
              " 'मैं': 4,\n",
              " 'वह': 5,\n",
              " 'से': 6,\n",
              " 'मुझे': 7,\n",
              " 'क्या': 8,\n",
              " 'के': 9,\n",
              " 'है': 10,\n",
              " 'को': 11,\n",
              " 'की': 12,\n",
              " 'हैं।': 13,\n",
              " 'हो': 14,\n",
              " 'बहुत': 15,\n",
              " 'का': 16,\n",
              " 'उसने': 17,\n",
              " 'पर': 18,\n",
              " 'यह': 19,\n",
              " 'एक': 20,\n",
              " 'था।': 21,\n",
              " 'हूँ।': 22,\n",
              " 'तुम': 23,\n",
              " 'कर': 24,\n",
              " 'लिए': 25,\n",
              " 'कि': 26,\n",
              " 'मेरे': 27,\n",
              " 'हैं': 28,\n",
              " 'और': 29,\n",
              " 'उसे': 30,\n",
              " 'इस': 31,\n",
              " 'ने': 32,\n",
              " 'भी': 33,\n",
              " 'टॉम': 34,\n",
              " 'अपने': 35,\n",
              " 'मेरी': 36,\n",
              " 'मैंने': 37,\n",
              " 'रहा': 38,\n",
              " 'करने': 39,\n",
              " 'तो': 40,\n",
              " 'हम': 41,\n",
              " 'पास': 42,\n",
              " 'अपनी': 43,\n",
              " 'गया।': 44,\n",
              " 'कल': 45,\n",
              " 'ही': 46,\n",
              " 'काम': 47,\n",
              " 'था': 48,\n",
              " 'करना': 49,\n",
              " 'कोई': 50,\n",
              " 'तुम्हें': 51,\n",
              " 'तुम्हारे': 52,\n",
              " 'उसकी': 53,\n",
              " 'उसके': 54,\n",
              " 'साथ': 55,\n",
              " 'घर': 56,\n",
              " 'आप': 57,\n",
              " 'थी।': 58,\n",
              " 'गया': 59,\n",
              " 'बात': 60,\n",
              " 'पता': 61,\n",
              " 'मेरा': 62,\n",
              " 'उस': 63,\n",
              " 'सकते': 64,\n",
              " 'समय': 65,\n",
              " 'रही': 66,\n",
              " 'कुछ': 67,\n",
              " 'यहाँ': 68,\n",
              " 'हूँ': 69,\n",
              " 'आज': 70,\n",
              " 'अभी': 71,\n",
              " 'तक': 72,\n",
              " 'सकता': 73,\n",
              " 'लगता': 74,\n",
              " 'किया।': 75,\n",
              " 'उसको': 76,\n",
              " 'चाहिए।': 77,\n",
              " 'बजे': 78,\n",
              " 'तुम्हे': 79,\n",
              " 'अच्छा': 80,\n",
              " 'रहे': 81,\n",
              " 'मत': 82,\n",
              " 'आ': 83,\n",
              " 'पसंद': 84,\n",
              " 'किताब': 85,\n",
              " 'थे।': 86,\n",
              " 'मुझसे': 87,\n",
              " 'करता': 88,\n",
              " 'दिया।': 89,\n",
              " 'हुई': 90,\n",
              " 'करते': 91,\n",
              " 'होता': 92,\n",
              " '।': 93,\n",
              " 'वे': 94,\n",
              " 'किसी': 95,\n",
              " 'मदद': 96,\n",
              " 'भारत': 97,\n",
              " 'जाने': 98,\n",
              " 'अपना': 99,\n",
              " 'हुआ': 100,\n",
              " 'कभी': 101,\n",
              " 'पैसे': 102,\n",
              " 'दो': 103,\n",
              " 'गाड़ी': 104,\n",
              " 'जो': 105,\n",
              " 'होगा।': 106,\n",
              " 'उससे': 107,\n",
              " 'हो।': 108,\n",
              " 'न': 109,\n",
              " 'ज़्यादा': 110,\n",
              " 'आपको': 111,\n",
              " 'हुए': 112,\n",
              " 'उसका': 113,\n",
              " 'कहाँ': 114,\n",
              " 'जाना': 115,\n",
              " 'किया': 116,\n",
              " 'पहले': 117,\n",
              " 'होती': 118,\n",
              " 'साल': 119,\n",
              " 'चाहता': 120,\n",
              " 'सारे': 121,\n",
              " 'गए': 122,\n",
              " 'तुम्हारी': 123,\n",
              " 'जा': 124,\n",
              " 'बार': 125,\n",
              " 'बाहर': 126,\n",
              " 'बारे': 127,\n",
              " 'आदमी': 128,\n",
              " 'सब': 129,\n",
              " 'अंग्रेज़ी': 130,\n",
              " 'दिन': 131,\n",
              " 'देर': 132,\n",
              " 'गई।': 133,\n",
              " 'रात': 134,\n",
              " 'जाता': 135,\n",
              " 'दिया': 136,\n",
              " 'जब': 137,\n",
              " 'हमारे': 138,\n",
              " 'खाना': 139,\n",
              " 'अगर': 140,\n",
              " 'हमने': 141,\n",
              " 'बड़ा': 142,\n",
              " 'अब': 143,\n",
              " 'वापस': 144,\n",
              " 'फ़ोन': 145,\n",
              " 'बंद': 146,\n",
              " 'ये': 147,\n",
              " 'करो।': 148,\n",
              " 'जवाब': 149,\n",
              " 'कैसे': 150,\n",
              " 'सकता।': 151,\n",
              " 'जल्दी': 152,\n",
              " 'कितने': 153,\n",
              " 'दी।': 154,\n",
              " 'तुमने': 155,\n",
              " 'तुमसे': 156,\n",
              " 'चला': 157,\n",
              " 'वहाँ': 158,\n",
              " 'तरह': 159,\n",
              " 'छोड़': 160,\n",
              " 'हमेशा': 161,\n",
              " 'तीन': 162,\n",
              " 'गए।': 163,\n",
              " 'आता': 164,\n",
              " 'करती': 165,\n",
              " 'थे': 166,\n",
              " 'लोग': 167,\n",
              " 'हर': 168,\n",
              " 'हमे': 169,\n",
              " 'दस': 170,\n",
              " 'क्यों': 171,\n",
              " 'कम': 172,\n",
              " 'उन्होंने': 173,\n",
              " 'स्कूल': 174,\n",
              " 'बारिश': 175,\n",
              " 'लोगों': 176,\n",
              " 'सबसे': 177,\n",
              " 'ठीक': 178,\n",
              " 'खुश': 179,\n",
              " 'चल': 180,\n",
              " 'देखा': 181,\n",
              " 'डॉक्टर': 182,\n",
              " 'खतम': 183,\n",
              " 'कमरे': 184,\n",
              " 'मौसम': 185,\n",
              " 'देखा।': 186,\n",
              " 'मुश्किल': 187,\n",
              " 'बच्चे': 188,\n",
              " 'कहा': 189,\n",
              " 'पानी': 190,\n",
              " 'अच्छी': 191,\n",
              " 'पापा': 192,\n",
              " 'चाहते': 193,\n",
              " 'दो।': 194,\n",
              " 'कुत्ता': 195,\n",
              " 'सभी': 196,\n",
              " 'गई': 197,\n",
              " 'माँ': 198,\n",
              " 'शुरू': 199,\n",
              " 'हमारी': 200,\n",
              " 'ट्रेन': 201,\n",
              " 'होने': 202,\n",
              " 'कोशिश': 203,\n",
              " 'अच्छे': 204,\n",
              " 'थी': 205,\n",
              " 'दोस्त': 206,\n",
              " 'रहता': 207,\n",
              " 'नौकरी': 208,\n",
              " 'लिया।': 209,\n",
              " 'थोड़ा': 210,\n",
              " 'थोड़ी': 211,\n",
              " 'चाहिए': 212,\n",
              " 'चिट्ठी': 213,\n",
              " 'ले': 214,\n",
              " 'आपकी': 215,\n",
              " 'फिरसे': 216,\n",
              " 'बस': 217,\n",
              " 'तुम्हारा': 218,\n",
              " 'भाई': 219,\n",
              " 'टीवी': 220,\n",
              " 'बाद': 221,\n",
              " 'कब': 222,\n",
              " 'मन': 223,\n",
              " 'लड़की': 224,\n",
              " 'पिता': 225,\n",
              " 'सच': 226,\n",
              " 'सारी': 227,\n",
              " 'बिना': 228,\n",
              " 'या': 229,\n",
              " 'सुबह': 230,\n",
              " 'चुका': 231,\n",
              " 'थक': 232,\n",
              " 'जन्मदिन': 233,\n",
              " 'ज़रूरत': 234,\n",
              " 'यकीन': 235,\n",
              " 'पढ़': 236,\n",
              " 'वाला': 237,\n",
              " 'रोज़': 238,\n",
              " 'नहीं।': 239,\n",
              " 'हमें': 240,\n",
              " 'जानता': 241,\n",
              " 'बड़े': 242,\n",
              " 'ऐसा': 243,\n",
              " 'जाएगा।': 244,\n",
              " 'लिया': 245,\n",
              " 'करनी': 246,\n",
              " 'जाती': 247,\n",
              " 'देख': 248,\n",
              " 'वाले': 249,\n",
              " 'छः': 250,\n",
              " 'करी।': 251,\n",
              " 'लगा': 252,\n",
              " 'माफ़': 253,\n",
              " 'प्यार': 254,\n",
              " 'दोनो': 255,\n",
              " 'शहर': 256,\n",
              " 'आवाज़': 257,\n",
              " 'नाम': 258,\n",
              " 'पूरी': 259,\n",
              " 'किताबें': 260,\n",
              " 'ना': 261,\n",
              " 'दरवाज़े': 262,\n",
              " 'इतना': 263,\n",
              " 'चाय': 264,\n",
              " 'इन': 265,\n",
              " 'कितनी': 266,\n",
              " 'जापान': 267,\n",
              " 'खाने': 268,\n",
              " 'वजह': 269,\n",
              " 'बच्चों': 270,\n",
              " 'आने': 271,\n",
              " 'समझ': 272,\n",
              " 'सोच': 273,\n",
              " 'मुझपर': 274,\n",
              " 'चीज़': 275,\n",
              " 'इनसान': 276,\n",
              " 'विदेश': 277,\n",
              " 'पिताजी': 278,\n",
              " 'हुआ।': 279,\n",
              " 'शादी': 280,\n",
              " 'टीचर': 281,\n",
              " 'कपड़े': 282,\n",
              " 'हफ़्ते': 283,\n",
              " 'दे': 284,\n",
              " 'नदी': 285,\n",
              " 'पाँच': 286,\n",
              " 'आदत': 287,\n",
              " 'मेज़': 288,\n",
              " 'आमतौर': 289,\n",
              " 'सिगरेट': 290,\n",
              " 'महीने': 291,\n",
              " 'सही': 292,\n",
              " 'कौन': 293,\n",
              " 'लगी': 294,\n",
              " 'कैसा': 295,\n",
              " 'कृपया': 296,\n",
              " 'साफ़': 297,\n",
              " 'उम्र': 298,\n",
              " 'तैयार': 299,\n",
              " 'लड़के': 300,\n",
              " 'मिलने': 301,\n",
              " 'पीछे': 302,\n",
              " 'हाथ': 303,\n",
              " 'इंतेज़ार': 304,\n",
              " 'इस्तेमाल': 305,\n",
              " 'चलाना': 306,\n",
              " 'खो': 307,\n",
              " 'मिलना': 308,\n",
              " 'होगा': 309,\n",
              " 'दोपहर': 310,\n",
              " 'आसान': 311,\n",
              " 'मिला।': 312,\n",
              " 'पिछले': 313,\n",
              " 'उनकी': 314,\n",
              " 'काफ़ी': 315,\n",
              " 'कमरा': 316,\n",
              " 'आपके': 317,\n",
              " 'होते': 318,\n",
              " 'अकेले': 319,\n",
              " 'देना': 320,\n",
              " 'फ़ायदा': 321,\n",
              " 'उनके': 322,\n",
              " 'अंदर': 323,\n",
              " 'भूल': 324,\n",
              " 'आग': 325,\n",
              " 'आपसे': 326,\n",
              " 'आया।': 327,\n",
              " 'ग़लत': 328,\n",
              " 'लग': 329,\n",
              " 'हुई।': 330,\n",
              " 'करो': 331,\n",
              " 'जानते': 332,\n",
              " 'रहते': 333,\n",
              " 'जैसा': 334,\n",
              " 'कितना': 335,\n",
              " 'गर्मी': 336,\n",
              " 'भरोसा': 337,\n",
              " 'सेव': 338,\n",
              " 'जूते': 339,\n",
              " 'जहाँ': 340,\n",
              " 'एकदूसरे': 341,\n",
              " 'सवाल': 342,\n",
              " 'पीना': 343,\n",
              " 'मर': 344,\n",
              " 'दिनों': 345,\n",
              " 'देने': 346,\n",
              " 'क्योंकि': 347,\n",
              " 'कहना': 348,\n",
              " 'दुनिया': 349,\n",
              " 'अगले': 350,\n",
              " 'गाँव': 351,\n",
              " 'जाओ।': 352,\n",
              " 'आपका': 353,\n",
              " 'चलो': 354,\n",
              " 'कीजिए।': 355,\n",
              " 'कुत्ते': 356,\n",
              " 'आया': 357,\n",
              " 'पैसों': 358,\n",
              " 'आराम': 359,\n",
              " 'पढ़ाई': 360,\n",
              " 'मज़ाक': 361,\n",
              " 'याद': 362,\n",
              " 'खुशी': 363,\n",
              " 'बन': 364,\n",
              " 'विश्वास': 365,\n",
              " 'बताया': 366,\n",
              " 'पड़ी।': 367,\n",
              " 'देखना': 368,\n",
              " 'बहन': 369,\n",
              " 'आए': 370,\n",
              " 'जाकर': 371,\n",
              " 'घड़ी': 372,\n",
              " 'पुलिस': 373,\n",
              " 'होंगे।': 374,\n",
              " 'पार्टी': 375,\n",
              " 'स्टेशन': 376,\n",
              " 'परेशान': 377,\n",
              " 'बाल': 378,\n",
              " 'कॉफ़ी': 379,\n",
              " 'लगभग': 380,\n",
              " 'मिल': 381,\n",
              " 'सकती।': 382,\n",
              " 'उन्हें': 383,\n",
              " 'खबर': 384,\n",
              " 'दवाई': 385,\n",
              " 'सो': 386,\n",
              " 'समस्या': 387,\n",
              " 'लंदन': 388,\n",
              " 'साईकल': 389,\n",
              " 'फ़र्क': 390,\n",
              " 'लगती': 391,\n",
              " 'सलाह': 392,\n",
              " 'बता': 393,\n",
              " 'निकल': 394,\n",
              " 'वैसा': 395,\n",
              " 'तैरना': 396,\n",
              " 'करूँगा।': 397,\n",
              " 'वादा': 398,\n",
              " 'बीमार': 399,\n",
              " 'मौत': 400,\n",
              " 'दरवाज़ा': 401,\n",
              " 'संगीत': 402,\n",
              " 'फिर': 403,\n",
              " 'कहानी': 404,\n",
              " 'शायद': 405,\n",
              " 'करी': 406,\n",
              " 'मुलाकात': 407,\n",
              " 'ग़लती': 408,\n",
              " 'चालू': 409,\n",
              " 'ली।': 410,\n",
              " 'उन': 411,\n",
              " 'जितना': 412,\n",
              " 'लम्बा': 413,\n",
              " 'कीजिएगा': 414,\n",
              " 'ख़याल': 415,\n",
              " 'हवा': 416,\n",
              " 'सकते।': 417,\n",
              " 'मैरी': 418,\n",
              " 'पड़ेगी।': 419,\n",
              " 'रखना': 420,\n",
              " 'ऐसी': 421,\n",
              " 'तेज़': 422,\n",
              " 'अजीब': 423,\n",
              " 'अक्सर': 424,\n",
              " 'राजा': 425,\n",
              " 'डर': 426,\n",
              " 'छोटी': 427,\n",
              " 'पुराने': 428,\n",
              " 'ढूँढ': 429,\n",
              " 'सैर': 430,\n",
              " 'चाह्ता': 431,\n",
              " 'तस्वीर': 432,\n",
              " 'नई': 433,\n",
              " 'सका।': 434,\n",
              " 'बीच': 435,\n",
              " 'अचानक': 436,\n",
              " 'मानो': 437,\n",
              " 'लिखी': 438,\n",
              " 'जैसे': 439,\n",
              " 'होगी।': 440,\n",
              " 'बर्दाश्त': 441,\n",
              " 'भूख': 442,\n",
              " 'तू': 443,\n",
              " 'देखने': 444,\n",
              " 'इसे': 445,\n",
              " 'मछलियाँ': 446,\n",
              " 'हमारा': 447,\n",
              " 'बिस्तर': 448,\n",
              " 'पतंग': 449,\n",
              " 'ध्यान': 450,\n",
              " 'शोर': 451,\n",
              " 'खराब': 452,\n",
              " 'दर्द': 453,\n",
              " 'विद्यार्थी': 454,\n",
              " 'चोरी': 455,\n",
              " 'आँखें': 456,\n",
              " 'आएगा।': 457,\n",
              " 'सकती': 458,\n",
              " 'पैदा': 459,\n",
              " 'परिवार': 460,\n",
              " 'चुके': 461,\n",
              " 'आती': 462,\n",
              " 'करके': 463,\n",
              " 'बुरी': 464,\n",
              " 'जाए।': 465,\n",
              " 'आसमान': 466,\n",
              " 'पेड़': 467,\n",
              " 'डब्बे': 468,\n",
              " 'लगाकर': 469,\n",
              " 'बुखार': 470,\n",
              " 'काट': 471,\n",
              " 'बज': 472,\n",
              " 'दीजिए।': 473,\n",
              " 'अफ़वाह': 474,\n",
              " 'नाप': 475,\n",
              " 'ज़िन्दगी': 476,\n",
              " 'जानवर': 477,\n",
              " 'भाग': 478,\n",
              " 'खाली': 479,\n",
              " 'बोल': 480,\n",
              " 'आसानी': 481,\n",
              " 'खेलना': 482,\n",
              " 'काश': 483,\n",
              " 'टेनिस': 484,\n",
              " 'दोनों': 485,\n",
              " 'होमवर्क': 486,\n",
              " 'जंगल': 487,\n",
              " 'अध्यापक': 488,\n",
              " 'रहने': 489,\n",
              " 'पीने': 490,\n",
              " 'किस': 491,\n",
              " 'जाते': 492,\n",
              " 'आठ': 493,\n",
              " 'खिड़की': 494,\n",
              " 'दुर्घटना': 495,\n",
              " 'सफ़र': 496,\n",
              " 'मम्मी': 497,\n",
              " 'पूरे': 498,\n",
              " 'इसके': 499,\n",
              " 'धीरे': 500,\n",
              " 'बजाय': 501,\n",
              " 'सड़क': 502,\n",
              " 'बड़ी': 503,\n",
              " 'भाषा': 504,\n",
              " 'राजधानी': 505,\n",
              " 'रहना': 506,\n",
              " 'इतने': 507,\n",
              " 'जल्दसेजल्द': 508,\n",
              " 'ज़िम्मेदार': 509,\n",
              " 'पढ़ने': 510,\n",
              " 'अंतर': 511,\n",
              " 'बच्चा': 512,\n",
              " 'मशीन': 513,\n",
              " 'खड़ा': 514,\n",
              " 'लगते': 515,\n",
              " 'आओ।': 516,\n",
              " 'लो।': 517,\n",
              " 'फूल': 518,\n",
              " 'खरीदना': 519,\n",
              " 'आऊँगा।': 520,\n",
              " 'गरम': 521,\n",
              " 'पैर': 522,\n",
              " 'ज़रूरी': 523,\n",
              " 'आई': 524,\n",
              " 'सुनाई': 525,\n",
              " 'गिटार': 526,\n",
              " 'बिजली': 527,\n",
              " 'बारी': 528,\n",
              " 'रहें': 529,\n",
              " 'सच्चाई': 530,\n",
              " 'जंग': 531,\n",
              " 'रहती': 532,\n",
              " 'किसने': 533,\n",
              " 'वही': 534,\n",
              " 'सा': 535,\n",
              " 'i': 536,\n",
              " 'छोटा': 537,\n",
              " 'सुंदर': 538,\n",
              " 'चोर': 539,\n",
              " 'सवालों': 540,\n",
              " 'दिखने': 541,\n",
              " 'अमीर': 542,\n",
              " 'बेसबॉल': 543,\n",
              " 'आओगे': 544,\n",
              " 'पढ़ना': 545,\n",
              " 'जान': 546,\n",
              " 'अपनेआप': 547,\n",
              " 'बना': 548,\n",
              " 'कामयाब': 549,\n",
              " 'सहमत': 550,\n",
              " 'पीठ': 551,\n",
              " 'मिला': 552,\n",
              " 'फ़ैसला': 553,\n",
              " 'रविवार': 554,\n",
              " 'रंग': 555,\n",
              " 'निराश': 556,\n",
              " 'चुकी': 557,\n",
              " 'अफ़सर': 558,\n",
              " 'गरीब': 559,\n",
              " 'कमसेकम': 560,\n",
              " 'विज्ञान': 561,\n",
              " 'आगे': 562,\n",
              " 'लम्बी': 563,\n",
              " 'कहीं': 564,\n",
              " 'झील': 565,\n",
              " 'पूरा': 566,\n",
              " 'चहिए।': 567,\n",
              " 'औरत': 568,\n",
              " 'जाऊँगा।': 569,\n",
              " 'बजाना': 570,\n",
              " 'वाली': 571,\n",
              " 'ग़लतियाँ': 572,\n",
              " 'देश': 573,\n",
              " 'उसपर': 574,\n",
              " 'इससे': 575,\n",
              " 'खड़े': 576,\n",
              " 'चीनी': 577,\n",
              " 'लगाया।': 578,\n",
              " 'बीमारी': 579,\n",
              " 'मिनट': 580,\n",
              " 'कीमत': 581,\n",
              " 'आना': 582,\n",
              " 'सीखना': 583,\n",
              " 'डॉलर': 584,\n",
              " 'उठा': 585,\n",
              " 'दिलचस्पी': 586,\n",
              " 'फ़िल्म': 587,\n",
              " 'रूप': 588,\n",
              " 'क्लास': 589,\n",
              " 'दिलचस्प': 590,\n",
              " 'रुक': 591,\n",
              " 'आखिरकार': 592,\n",
              " 'बोली': 593,\n",
              " 'बोलना': 594,\n",
              " 'खिलाड़ी': 595,\n",
              " 'नम्बर': 596,\n",
              " 'सौ': 597,\n",
              " 'मना': 598,\n",
              " 'दूर': 599,\n",
              " 'असली': 600,\n",
              " 'चाहती': 601,\n",
              " 'सुनकर': 602,\n",
              " 'जाएगी।': 603,\n",
              " 'शौक': 604,\n",
              " 'जहाज़': 605,\n",
              " 'करोगे': 606,\n",
              " 'हूं।': 607,\n",
              " 'विषय': 608,\n",
              " 'जितनी': 609,\n",
              " 'चीन': 610,\n",
              " 'स्वास्थ्य': 611,\n",
              " 'कई': 612,\n",
              " 'पहाड़': 613,\n",
              " 'लिख': 614,\n",
              " 'पाया।': 615,\n",
              " 'रह': 616,\n",
              " 'अलग': 617,\n",
              " 'देखभाल': 618,\n",
              " 'छोटे': 619,\n",
              " 'पा': 620,\n",
              " 'तब': 621,\n",
              " 'मातापिता': 622,\n",
              " 'मज़े': 623,\n",
              " 'पेट': 624,\n",
              " 'भर': 625,\n",
              " 'चलें': 626,\n",
              " 'मत।': 627,\n",
              " 'ली': 628,\n",
              " 'कैसी': 629,\n",
              " 'पता।': 630,\n",
              " 'बरफ़': 631,\n",
              " 'गिर': 632,\n",
              " 'मुफ़्त': 633,\n",
              " 'नीचे': 634,\n",
              " 'उड़': 635,\n",
              " 'लड़का': 636,\n",
              " 'कमी': 637,\n",
              " 'इतिहास': 638,\n",
              " 'रहूँगा।': 639,\n",
              " 'भगवान': 640,\n",
              " 'करता।': 641,\n",
              " 'बस्ता': 642,\n",
              " 'पहनी': 643,\n",
              " 'आसपास': 644,\n",
              " 'ऊपर': 645,\n",
              " 'बूढ़ा': 646,\n",
              " 'अप्रैल': 647,\n",
              " 'चाबी': 648,\n",
              " 'लगा।': 649,\n",
              " 'बैंक': 650,\n",
              " 'उम्मीद': 651,\n",
              " 'मिलेंगे।': 652,\n",
              " 'चली': 653,\n",
              " 'कौनसा': 654,\n",
              " 'महसूस': 655,\n",
              " 'खरीदी।': 656,\n",
              " 'जीत': 657,\n",
              " 'चाहूँगा।': 658,\n",
              " 'रही।': 659,\n",
              " 'पड़ेगा।': 660,\n",
              " 'चिंता': 661,\n",
              " 'की।': 662,\n",
              " 'होना': 663,\n",
              " 'योजना': 664,\n",
              " 'खा': 665,\n",
              " 'खुला': 666,\n",
              " 'ग्यारह': 667,\n",
              " 'लाल': 668,\n",
              " 'ड्रेस': 669,\n",
              " 'ओर': 670,\n",
              " 'राज़': 671,\n",
              " 'अंडे': 672,\n",
              " 'प्रस्ताव': 673,\n",
              " 'स्वीकार': 674,\n",
              " 'सारा': 675,\n",
              " 'आता।': 676,\n",
              " 'नफ़रत': 677,\n",
              " 'खेल': 678,\n",
              " 'आएगा': 679,\n",
              " 'भला': 680,\n",
              " 'गाना': 681,\n",
              " 'डाला।': 682,\n",
              " 'सात': 683,\n",
              " 'खुद': 684,\n",
              " 'नौ': 685,\n",
              " 'बत्ती': 686,\n",
              " 'पहुँच': 687,\n",
              " 'दूध': 688,\n",
              " 'मेहनत': 689,\n",
              " 'तरफ़': 690,\n",
              " 'सके': 691,\n",
              " 'दूँगा।': 692,\n",
              " 'लेनादेना': 693,\n",
              " 'आई।': 694,\n",
              " 'डब्बा': 695,\n",
              " 'खोल': 696,\n",
              " 'जी': 697,\n",
              " 'कप': 698,\n",
              " 'सोने': 699,\n",
              " 'सेहत': 700,\n",
              " 'पत्नी': 701,\n",
              " 'कहा।': 702,\n",
              " 'लेने': 703,\n",
              " 'इनकार': 704,\n",
              " 'मुझ': 705,\n",
              " 'कठिन': 706,\n",
              " 'बुराई': 707,\n",
              " 'अटैची': 708,\n",
              " 'रो': 709,\n",
              " 'पसंदीता': 710,\n",
              " 'बदलने': 711,\n",
              " 'भूलना।': 712,\n",
              " 'छोड़ने': 713,\n",
              " 'राय': 714,\n",
              " 'मील': 715,\n",
              " 'बिलकुल': 716,\n",
              " 'मे': 717,\n",
              " 'शब्द': 718,\n",
              " 'हिसाब': 719,\n",
              " 'घंटे': 720,\n",
              " 'कनाडा': 721,\n",
              " 'यूरोप': 722,\n",
              " 'नियम': 723,\n",
              " 'पार': 724,\n",
              " 'सपना': 725,\n",
              " 'नगर': 726,\n",
              " 'होतीं': 727,\n",
              " 'दुकान': 728,\n",
              " 'हमसे': 729,\n",
              " 'आते': 730,\n",
              " 'टिकटें': 731,\n",
              " 'अमेरिका': 732,\n",
              " 'अफ़्रीका': 733,\n",
              " 'बेटे': 734,\n",
              " 'पकड़': 735,\n",
              " 'हद': 736,\n",
              " 'इसलिए': 737,\n",
              " 'रवाना': 738,\n",
              " 'इरादा': 739,\n",
              " 'जाऊँगी।': 740,\n",
              " 'लिखा': 741,\n",
              " 'बेहतर': 742,\n",
              " 'बहनें': 743,\n",
              " 'आजकल': 744,\n",
              " 'ढूँढने': 745,\n",
              " 'विमान': 746,\n",
              " 'कॉलेज': 747,\n",
              " 'विश्व': 748,\n",
              " 'सुन': 749,\n",
              " 'पहली': 750,\n",
              " 'ऐसे': 751,\n",
              " 'जल्दबाज़ी': 752,\n",
              " 'सामान': 753,\n",
              " 'केवल': 754,\n",
              " 'पैरिस': 755,\n",
              " 'ख़रीद': 756,\n",
              " 'दोस्तों': 757,\n",
              " 'लायक': 758,\n",
              " 'सामने': 759,\n",
              " 'मुताबिक': 760,\n",
              " 'जिससे': 761,\n",
              " 'क्रिकेट': 762,\n",
              " 'शौकिया': 763,\n",
              " 'कर्मचारियों': 764,\n",
              " 'बनाने': 765,\n",
              " 'ब्रिज': 766,\n",
              " 'अम्रीका': 767,\n",
              " 'देते': 768,\n",
              " 'सरकार': 769,\n",
              " 'परीक्षा': 770,\n",
              " 'जाओ': 771,\n",
              " 'हार': 772,\n",
              " 'करना।': 773,\n",
              " 'पंछी': 774,\n",
              " 'लेकिन': 775,\n",
              " 'अकेला': 776,\n",
              " 'बोर': 777,\n",
              " 'ठंड': 778,\n",
              " 'गाते': 779,\n",
              " 'बैठिए।': 780,\n",
              " 'मुस्कुराया।': 781,\n",
              " 'नया': 782,\n",
              " 'केक': 783,\n",
              " 'झूठ': 784,\n",
              " 'मुबारक': 785,\n",
              " 'समझता': 786,\n",
              " 'मान': 787,\n",
              " 'चीजों': 788,\n",
              " 'व्यस्थ': 789,\n",
              " 'बिल्ली': 790,\n",
              " 'सकतीं': 791,\n",
              " 'नक्शा': 792,\n",
              " 'गोली': 793,\n",
              " 'नए': 794,\n",
              " 'हों': 795,\n",
              " 'धोओ।': 796,\n",
              " 'पागल': 797,\n",
              " 'टोपी': 798,\n",
              " 'पति': 799,\n",
              " 'उल्टी': 800,\n",
              " 'नसीब': 801,\n",
              " 'काला': 802,\n",
              " 'सिखा': 803,\n",
              " 'चावल': 804,\n",
              " 'मूँह': 805,\n",
              " 'लम्बे': 806,\n",
              " 'कौनसी': 807,\n",
              " 'नींद': 808,\n",
              " 'नीली': 809,\n",
              " 'शादीशुदा': 810,\n",
              " 'बताओ।': 811,\n",
              " 'रेडियो': 812,\n",
              " 'वो': 813,\n",
              " 'महंगी': 814,\n",
              " 'रेलगाड़ी': 815,\n",
              " 'कौआ': 816,\n",
              " 'तोड़': 817,\n",
              " 'बनाया': 818,\n",
              " 'कह': 819,\n",
              " 'पुरानी': 820,\n",
              " 'लेना': 821,\n",
              " 'बताने': 822,\n",
              " 'शराब': 823,\n",
              " 'लिखना': 824,\n",
              " 'कमीज़': 825,\n",
              " 'टैक्स': 826,\n",
              " 'पेनसिल': 827,\n",
              " 'जॉगिंग': 828,\n",
              " 'समुंदर': 829,\n",
              " 'कामयाबी': 830,\n",
              " 'गुस्सा': 831,\n",
              " 'उधार': 832,\n",
              " 'प्रतीक्षा': 833,\n",
              " 'ज़ुकाम': 834,\n",
              " 'बारह': 835,\n",
              " 'मछली': 836,\n",
              " 'पहने': 837,\n",
              " 'लगतीं': 838,\n",
              " 'तेज़ी': 839,\n",
              " 'रख': 840,\n",
              " 'व्यापार': 841,\n",
              " 'हमको': 842,\n",
              " 'उनका': 843,\n",
              " 'छलाँग': 844,\n",
              " 'इसको': 845,\n",
              " 'जाऊं': 846,\n",
              " 'गेंद': 847,\n",
              " 'बताओ': 848,\n",
              " 'छूट': 849,\n",
              " 'लगाई।': 850,\n",
              " 'उनको': 851,\n",
              " 'जैसी': 852,\n",
              " 'गलत': 853,\n",
              " 'मजबूर': 854,\n",
              " 'बोलो।': 855,\n",
              " 'लेता': 856,\n",
              " 'खटखटाया।': 857,\n",
              " 'जापानी': 858,\n",
              " 'उठता': 859,\n",
              " 'ठंडा': 860,\n",
              " 'पियानो': 861,\n",
              " 'तेल': 862,\n",
              " 'उतना': 863,\n",
              " 'निर्णय': 864,\n",
              " 'फ़ुटबॉल': 865,\n",
              " 'इलज़ाम': 866,\n",
              " 'गिलास': 867,\n",
              " 'बजने': 868,\n",
              " 'कुरसी': 869,\n",
              " 'लकड़ी': 870,\n",
              " 'चार': 871,\n",
              " 'एकसाथ': 872,\n",
              " 'कैंसर': 873,\n",
              " 'संतुष्ट': 874,\n",
              " 'उपन्यास': 875,\n",
              " 'मुलाक़ात': 876,\n",
              " 'टैक्सी': 877,\n",
              " 'पढ़ा': 878,\n",
              " 'टोक्यो': 879,\n",
              " 'हाँ': 880,\n",
              " 'किनारे': 881,\n",
              " 'सज़ा': 882,\n",
              " 'दी': 883,\n",
              " 'गाड़ियाँ': 884,\n",
              " 'दिखाई': 885,\n",
              " 'होती।': 886,\n",
              " 'मुसीबत': 887,\n",
              " 'देखकर': 888,\n",
              " 'छाया': 889,\n",
              " 'साढ़ेआठ': 890,\n",
              " 'धन्यवाद।': 891,\n",
              " 'बनी': 892,\n",
              " 'रोने': 893,\n",
              " 'पड़ा।': 894,\n",
              " 'बीस': 895,\n",
              " 'रक्षा': 896,\n",
              " 'करवाना': 897,\n",
              " 'जगह': 898,\n",
              " 'फूलों': 899,\n",
              " 'पड़ता।': 900,\n",
              " 'जरूरत': 901,\n",
              " 'सर': 902,\n",
              " 'चोट': 903,\n",
              " 'दोगे': 904,\n",
              " 'अगली': 905,\n",
              " 'फ़्रानसीसी': 906,\n",
              " 'बर्ताव': 907,\n",
              " 'खूबसूरत': 908,\n",
              " 'बर्बादी': 909,\n",
              " 'धीमी': 910,\n",
              " 'बचा': 911,\n",
              " 'लिए।': 912,\n",
              " 'खेलने': 913,\n",
              " 'चाहेंगे': 914,\n",
              " 'दफ़्तर': 915,\n",
              " 'साफ़सुथरा': 916,\n",
              " 'भाषण': 917,\n",
              " 'नतीजे': 918,\n",
              " 'खेत': 919,\n",
              " 'नानी': 920,\n",
              " 'इटली': 921,\n",
              " 'अलावा': 922,\n",
              " 'जनसंख्या': 923,\n",
              " 'ऑस्ट्रेलिया': 924,\n",
              " 'छोड़ना': 925,\n",
              " 'सी': 926,\n",
              " 'चीज़ें': 927,\n",
              " 'मक्खन': 928,\n",
              " 'उठाया।': 929,\n",
              " 'सोमवार': 930,\n",
              " 'घंटों': 931,\n",
              " 'जाता।': 932,\n",
              " 'सपने': 933,\n",
              " 'डाक': 934,\n",
              " 'मानते': 935,\n",
              " 'उनसे': 936,\n",
              " 'सोते': 937,\n",
              " 'पत्र': 938,\n",
              " 'खड़ी': 939,\n",
              " 'तुमको': 940,\n",
              " 'बेचैन': 941,\n",
              " 'कविता': 942,\n",
              " 'निकालते': 943,\n",
              " 'व्यक्ति': 944,\n",
              " 'भोजन': 945,\n",
              " 'छत': 946,\n",
              " 'रहा।': 947,\n",
              " 'बातचीत': 948,\n",
              " 'कब्रिस्तान': 949,\n",
              " 'बाज़ार': 950,\n",
              " 'स्टॉप': 951,\n",
              " 'देता': 952,\n",
              " 'अखबार': 953,\n",
              " 'पालन': 954,\n",
              " 'उत्तर': 955,\n",
              " 'शर्म': 956,\n",
              " 'पचास': 957,\n",
              " 'तस्वीरें': 958,\n",
              " 'अस्पताल': 959,\n",
              " 'कम्प्यूटर': 960,\n",
              " 'इतनी': 961,\n",
              " 'संदेश': 962,\n",
              " 'दिल्ली': 963,\n",
              " 'चलती': 964,\n",
              " 'खाते': 965,\n",
              " 'उठते': 966,\n",
              " 'वसीयत': 967,\n",
              " 'जानना': 968,\n",
              " 'हैरान': 969,\n",
              " 'जेब': 970,\n",
              " 'पकड़ा': 971,\n",
              " 'मौके': 972,\n",
              " 'बुलाया': 973,\n",
              " 'कम्पनी': 974,\n",
              " 'कभीकभी': 975,\n",
              " 'जाया': 976,\n",
              " 'पछतावा': 977,\n",
              " 'चाहे': 978,\n",
              " 'जाए': 979,\n",
              " 'देगी।': 980,\n",
              " 'कहने': 981,\n",
              " 'पाया': 982,\n",
              " 'राज़ी': 983,\n",
              " 'बत्तियाँ': 984,\n",
              " 'मिली।': 985,\n",
              " 'इलाज': 986,\n",
              " 'एकदो': 987,\n",
              " 'पहचानता': 988,\n",
              " 'म्युज़ियम': 989,\n",
              " 'पहचान': 990,\n",
              " 'इंग्लैंड': 991,\n",
              " 'थीं।': 992,\n",
              " 'जिसे': 993,\n",
              " 'दिख': 994,\n",
              " 'रास्ते': 995,\n",
              " 'पुस्तकालय': 996,\n",
              " 'सोचता': 997,\n",
              " 'पड़ता': 998,\n",
              " 'टेरेसा': 999,\n",
              " 'समझे': 1000,\n",
              " ...}"
            ]
          },
          "metadata": {},
          "execution_count": 17
        }
      ]
    },
    {
      "cell_type": "code",
      "source": [
        "hin_vocab"
      ],
      "metadata": {
        "colab": {
          "base_uri": "https://localhost:8080/"
        },
        "id": "AVg5qeIZpc1M",
        "outputId": "6f5f1b80-376f-4d54-bae5-fd9c54dea34d"
      },
      "execution_count": null,
      "outputs": [
        {
          "output_type": "execute_result",
          "data": {
            "text/plain": [
              "3062"
            ]
          },
          "metadata": {},
          "execution_count": 18
        }
      ]
    },
    {
      "cell_type": "markdown",
      "source": [
        "We tokenized the data — i.e., converted the text to numerical values. This allows the neural network to perform operations on the input data.\n",
        "When we run the tokenizer, it creates a word index, which is then used to convert each sentence to a vector."
      ],
      "metadata": {
        "id": "ETJV5TmyhH8y"
      }
    },
    {
      "cell_type": "code",
      "source": [
        "def encode_sequences(tokenizer, length, lines):\n",
        "    seq = tokenizer.texts_to_sequences(lines)\n",
        "    seq = pad_sequences(seq, maxlen=length, padding='post')\n",
        "    return seq"
      ],
      "metadata": {
        "id": "FRWwsic6g4NN"
      },
      "execution_count": 15,
      "outputs": []
    },
    {
      "cell_type": "code",
      "source": [
        "# now we wil split the data\n",
        "from sklearn.model_selection import train_test_split\n",
        "train,test = train_test_split(hin_eng,test_size=0.2,random_state=42)"
      ],
      "metadata": {
        "id": "zcOxQwc7iLKW"
      },
      "execution_count": 16,
      "outputs": []
    },
    {
      "cell_type": "code",
      "source": [
        "trainX = encode_sequences(hin_tok,15, train[:, 1])\n",
        "trainY = encode_sequences(eng_tok,15, train[:, 0])\n",
        "\n",
        "testX = encode_sequences(hin_tok,15, test[:, 1])\n",
        "testY = encode_sequences(eng_tok,15, test[:, 0])"
      ],
      "metadata": {
        "id": "Nj6zbW1jixjC"
      },
      "execution_count": 17,
      "outputs": []
    },
    {
      "cell_type": "code",
      "source": [
        "trainX.shape"
      ],
      "metadata": {
        "colab": {
          "base_uri": "https://localhost:8080/"
        },
        "id": "9LejqW_Ek3xP",
        "outputId": "d8b89bbb-258a-4091-f13f-2db7d7bf0126"
      },
      "execution_count": 18,
      "outputs": [
        {
          "output_type": "execute_result",
          "data": {
            "text/plain": [
              "(2332, 15)"
            ]
          },
          "metadata": {},
          "execution_count": 18
        }
      ]
    },
    {
      "cell_type": "code",
      "source": [
        "max_index = np.max(trainX)\n",
        "print(max_index)"
      ],
      "metadata": {
        "colab": {
          "base_uri": "https://localhost:8080/"
        },
        "id": "j3aglGGwn0hr",
        "outputId": "8db58403-b59f-46fe-afbe-d0cf161cf516"
      },
      "execution_count": 19,
      "outputs": [
        {
          "output_type": "stream",
          "name": "stdout",
          "text": [
            "3061\n"
          ]
        }
      ]
    },
    {
      "cell_type": "markdown",
      "source": [
        "now lets build the simple base model using lstm and gru , and then we will use their custom variations"
      ],
      "metadata": {
        "id": "x1Npk1KGmeUJ"
      }
    },
    {
      "cell_type": "code",
      "source": [
        "model = Sequential()\n",
        "# mask-zero tells the model to ignore padding tokens (0) during training\n",
        "model.add(Embedding(hin_vocab,output_dim=512,input_shape=(15,),mask_zero=True))\n",
        "model.add(Bidirectional(LSTM(512, return_sequences=True)))\n",
        "model.add(Dropout(0.2))\n",
        "model.add(Bidirectional(LSTM(512, return_sequences=True)))\n",
        "model.add(Dropout(0.2))\n",
        "model.add(LSTM(512))\n",
        "model.add(RepeatVector(15))  # becz the decoder LSTM expects a sequence (with time steps), not just a single vector.\n",
        "# so RepeatVector(n) solves this: It takes that single vector and repeats it n times to create a sequence. to give 15 output words\n",
        "model.add(LSTM(512, return_sequences=True))\n",
        "model.add(LSTM(512, return_sequences=True))\n",
        "model.add(LSTM(512, return_sequences=True))\n",
        "model.add(Dense(eng_vocab,activation='softmax'))\n"
      ],
      "metadata": {
        "colab": {
          "base_uri": "https://localhost:8080/"
        },
        "id": "wdw9apG6l2Zt",
        "outputId": "e2b8fa08-a356-4888-c953-0e5117bc6119"
      },
      "execution_count": 20,
      "outputs": [
        {
          "output_type": "stream",
          "name": "stderr",
          "text": [
            "/usr/local/lib/python3.12/dist-packages/keras/src/layers/core/embedding.py:100: UserWarning: Do not pass an `input_shape`/`input_dim` argument to a layer. When using Sequential models, prefer using an `Input(shape)` object as the first layer in the model instead.\n",
            "  super().__init__(**kwargs)\n"
          ]
        }
      ]
    },
    {
      "cell_type": "code",
      "source": [
        "model.summary()"
      ],
      "metadata": {
        "colab": {
          "base_uri": "https://localhost:8080/",
          "height": 484
        },
        "id": "2sKYGynOq2SB",
        "outputId": "be868efe-ff65-4e77-e558-6112e797eb2e"
      },
      "execution_count": 21,
      "outputs": [
        {
          "output_type": "display_data",
          "data": {
            "text/plain": [
              "\u001b[1mModel: \"sequential\"\u001b[0m\n"
            ],
            "text/html": [
              "<pre style=\"white-space:pre;overflow-x:auto;line-height:normal;font-family:Menlo,'DejaVu Sans Mono',consolas,'Courier New',monospace\"><span style=\"font-weight: bold\">Model: \"sequential\"</span>\n",
              "</pre>\n"
            ]
          },
          "metadata": {}
        },
        {
          "output_type": "display_data",
          "data": {
            "text/plain": [
              "┏━━━━━━━━━━━━━━━━━━━━━━━━━━━━━━━━━┳━━━━━━━━━━━━━━━━━━━━━━━━┳━━━━━━━━━━━━━━━┓\n",
              "┃\u001b[1m \u001b[0m\u001b[1mLayer (type)                   \u001b[0m\u001b[1m \u001b[0m┃\u001b[1m \u001b[0m\u001b[1mOutput Shape          \u001b[0m\u001b[1m \u001b[0m┃\u001b[1m \u001b[0m\u001b[1m      Param #\u001b[0m\u001b[1m \u001b[0m┃\n",
              "┡━━━━━━━━━━━━━━━━━━━━━━━━━━━━━━━━━╇━━━━━━━━━━━━━━━━━━━━━━━━╇━━━━━━━━━━━━━━━┩\n",
              "│ embedding (\u001b[38;5;33mEmbedding\u001b[0m)           │ (\u001b[38;5;45mNone\u001b[0m, \u001b[38;5;34m15\u001b[0m, \u001b[38;5;34m512\u001b[0m)        │     \u001b[38;5;34m1,567,744\u001b[0m │\n",
              "├─────────────────────────────────┼────────────────────────┼───────────────┤\n",
              "│ bidirectional (\u001b[38;5;33mBidirectional\u001b[0m)   │ (\u001b[38;5;45mNone\u001b[0m, \u001b[38;5;34m15\u001b[0m, \u001b[38;5;34m1024\u001b[0m)       │     \u001b[38;5;34m4,198,400\u001b[0m │\n",
              "├─────────────────────────────────┼────────────────────────┼───────────────┤\n",
              "│ dropout (\u001b[38;5;33mDropout\u001b[0m)               │ (\u001b[38;5;45mNone\u001b[0m, \u001b[38;5;34m15\u001b[0m, \u001b[38;5;34m1024\u001b[0m)       │             \u001b[38;5;34m0\u001b[0m │\n",
              "├─────────────────────────────────┼────────────────────────┼───────────────┤\n",
              "│ bidirectional_1 (\u001b[38;5;33mBidirectional\u001b[0m) │ (\u001b[38;5;45mNone\u001b[0m, \u001b[38;5;34m15\u001b[0m, \u001b[38;5;34m1024\u001b[0m)       │     \u001b[38;5;34m6,295,552\u001b[0m │\n",
              "├─────────────────────────────────┼────────────────────────┼───────────────┤\n",
              "│ dropout_1 (\u001b[38;5;33mDropout\u001b[0m)             │ (\u001b[38;5;45mNone\u001b[0m, \u001b[38;5;34m15\u001b[0m, \u001b[38;5;34m1024\u001b[0m)       │             \u001b[38;5;34m0\u001b[0m │\n",
              "├─────────────────────────────────┼────────────────────────┼───────────────┤\n",
              "│ lstm_2 (\u001b[38;5;33mLSTM\u001b[0m)                   │ (\u001b[38;5;45mNone\u001b[0m, \u001b[38;5;34m512\u001b[0m)            │     \u001b[38;5;34m3,147,776\u001b[0m │\n",
              "├─────────────────────────────────┼────────────────────────┼───────────────┤\n",
              "│ repeat_vector (\u001b[38;5;33mRepeatVector\u001b[0m)    │ (\u001b[38;5;45mNone\u001b[0m, \u001b[38;5;34m15\u001b[0m, \u001b[38;5;34m512\u001b[0m)        │             \u001b[38;5;34m0\u001b[0m │\n",
              "├─────────────────────────────────┼────────────────────────┼───────────────┤\n",
              "│ lstm_3 (\u001b[38;5;33mLSTM\u001b[0m)                   │ (\u001b[38;5;45mNone\u001b[0m, \u001b[38;5;34m15\u001b[0m, \u001b[38;5;34m512\u001b[0m)        │     \u001b[38;5;34m2,099,200\u001b[0m │\n",
              "├─────────────────────────────────┼────────────────────────┼───────────────┤\n",
              "│ lstm_4 (\u001b[38;5;33mLSTM\u001b[0m)                   │ (\u001b[38;5;45mNone\u001b[0m, \u001b[38;5;34m15\u001b[0m, \u001b[38;5;34m512\u001b[0m)        │     \u001b[38;5;34m2,099,200\u001b[0m │\n",
              "├─────────────────────────────────┼────────────────────────┼───────────────┤\n",
              "│ lstm_5 (\u001b[38;5;33mLSTM\u001b[0m)                   │ (\u001b[38;5;45mNone\u001b[0m, \u001b[38;5;34m15\u001b[0m, \u001b[38;5;34m512\u001b[0m)        │     \u001b[38;5;34m2,099,200\u001b[0m │\n",
              "├─────────────────────────────────┼────────────────────────┼───────────────┤\n",
              "│ dense (\u001b[38;5;33mDense\u001b[0m)                   │ (\u001b[38;5;45mNone\u001b[0m, \u001b[38;5;34m15\u001b[0m, \u001b[38;5;34m2419\u001b[0m)       │     \u001b[38;5;34m1,240,947\u001b[0m │\n",
              "└─────────────────────────────────┴────────────────────────┴───────────────┘\n"
            ],
            "text/html": [
              "<pre style=\"white-space:pre;overflow-x:auto;line-height:normal;font-family:Menlo,'DejaVu Sans Mono',consolas,'Courier New',monospace\">┏━━━━━━━━━━━━━━━━━━━━━━━━━━━━━━━━━┳━━━━━━━━━━━━━━━━━━━━━━━━┳━━━━━━━━━━━━━━━┓\n",
              "┃<span style=\"font-weight: bold\"> Layer (type)                    </span>┃<span style=\"font-weight: bold\"> Output Shape           </span>┃<span style=\"font-weight: bold\">       Param # </span>┃\n",
              "┡━━━━━━━━━━━━━━━━━━━━━━━━━━━━━━━━━╇━━━━━━━━━━━━━━━━━━━━━━━━╇━━━━━━━━━━━━━━━┩\n",
              "│ embedding (<span style=\"color: #0087ff; text-decoration-color: #0087ff\">Embedding</span>)           │ (<span style=\"color: #00d7ff; text-decoration-color: #00d7ff\">None</span>, <span style=\"color: #00af00; text-decoration-color: #00af00\">15</span>, <span style=\"color: #00af00; text-decoration-color: #00af00\">512</span>)        │     <span style=\"color: #00af00; text-decoration-color: #00af00\">1,567,744</span> │\n",
              "├─────────────────────────────────┼────────────────────────┼───────────────┤\n",
              "│ bidirectional (<span style=\"color: #0087ff; text-decoration-color: #0087ff\">Bidirectional</span>)   │ (<span style=\"color: #00d7ff; text-decoration-color: #00d7ff\">None</span>, <span style=\"color: #00af00; text-decoration-color: #00af00\">15</span>, <span style=\"color: #00af00; text-decoration-color: #00af00\">1024</span>)       │     <span style=\"color: #00af00; text-decoration-color: #00af00\">4,198,400</span> │\n",
              "├─────────────────────────────────┼────────────────────────┼───────────────┤\n",
              "│ dropout (<span style=\"color: #0087ff; text-decoration-color: #0087ff\">Dropout</span>)               │ (<span style=\"color: #00d7ff; text-decoration-color: #00d7ff\">None</span>, <span style=\"color: #00af00; text-decoration-color: #00af00\">15</span>, <span style=\"color: #00af00; text-decoration-color: #00af00\">1024</span>)       │             <span style=\"color: #00af00; text-decoration-color: #00af00\">0</span> │\n",
              "├─────────────────────────────────┼────────────────────────┼───────────────┤\n",
              "│ bidirectional_1 (<span style=\"color: #0087ff; text-decoration-color: #0087ff\">Bidirectional</span>) │ (<span style=\"color: #00d7ff; text-decoration-color: #00d7ff\">None</span>, <span style=\"color: #00af00; text-decoration-color: #00af00\">15</span>, <span style=\"color: #00af00; text-decoration-color: #00af00\">1024</span>)       │     <span style=\"color: #00af00; text-decoration-color: #00af00\">6,295,552</span> │\n",
              "├─────────────────────────────────┼────────────────────────┼───────────────┤\n",
              "│ dropout_1 (<span style=\"color: #0087ff; text-decoration-color: #0087ff\">Dropout</span>)             │ (<span style=\"color: #00d7ff; text-decoration-color: #00d7ff\">None</span>, <span style=\"color: #00af00; text-decoration-color: #00af00\">15</span>, <span style=\"color: #00af00; text-decoration-color: #00af00\">1024</span>)       │             <span style=\"color: #00af00; text-decoration-color: #00af00\">0</span> │\n",
              "├─────────────────────────────────┼────────────────────────┼───────────────┤\n",
              "│ lstm_2 (<span style=\"color: #0087ff; text-decoration-color: #0087ff\">LSTM</span>)                   │ (<span style=\"color: #00d7ff; text-decoration-color: #00d7ff\">None</span>, <span style=\"color: #00af00; text-decoration-color: #00af00\">512</span>)            │     <span style=\"color: #00af00; text-decoration-color: #00af00\">3,147,776</span> │\n",
              "├─────────────────────────────────┼────────────────────────┼───────────────┤\n",
              "│ repeat_vector (<span style=\"color: #0087ff; text-decoration-color: #0087ff\">RepeatVector</span>)    │ (<span style=\"color: #00d7ff; text-decoration-color: #00d7ff\">None</span>, <span style=\"color: #00af00; text-decoration-color: #00af00\">15</span>, <span style=\"color: #00af00; text-decoration-color: #00af00\">512</span>)        │             <span style=\"color: #00af00; text-decoration-color: #00af00\">0</span> │\n",
              "├─────────────────────────────────┼────────────────────────┼───────────────┤\n",
              "│ lstm_3 (<span style=\"color: #0087ff; text-decoration-color: #0087ff\">LSTM</span>)                   │ (<span style=\"color: #00d7ff; text-decoration-color: #00d7ff\">None</span>, <span style=\"color: #00af00; text-decoration-color: #00af00\">15</span>, <span style=\"color: #00af00; text-decoration-color: #00af00\">512</span>)        │     <span style=\"color: #00af00; text-decoration-color: #00af00\">2,099,200</span> │\n",
              "├─────────────────────────────────┼────────────────────────┼───────────────┤\n",
              "│ lstm_4 (<span style=\"color: #0087ff; text-decoration-color: #0087ff\">LSTM</span>)                   │ (<span style=\"color: #00d7ff; text-decoration-color: #00d7ff\">None</span>, <span style=\"color: #00af00; text-decoration-color: #00af00\">15</span>, <span style=\"color: #00af00; text-decoration-color: #00af00\">512</span>)        │     <span style=\"color: #00af00; text-decoration-color: #00af00\">2,099,200</span> │\n",
              "├─────────────────────────────────┼────────────────────────┼───────────────┤\n",
              "│ lstm_5 (<span style=\"color: #0087ff; text-decoration-color: #0087ff\">LSTM</span>)                   │ (<span style=\"color: #00d7ff; text-decoration-color: #00d7ff\">None</span>, <span style=\"color: #00af00; text-decoration-color: #00af00\">15</span>, <span style=\"color: #00af00; text-decoration-color: #00af00\">512</span>)        │     <span style=\"color: #00af00; text-decoration-color: #00af00\">2,099,200</span> │\n",
              "├─────────────────────────────────┼────────────────────────┼───────────────┤\n",
              "│ dense (<span style=\"color: #0087ff; text-decoration-color: #0087ff\">Dense</span>)                   │ (<span style=\"color: #00d7ff; text-decoration-color: #00d7ff\">None</span>, <span style=\"color: #00af00; text-decoration-color: #00af00\">15</span>, <span style=\"color: #00af00; text-decoration-color: #00af00\">2419</span>)       │     <span style=\"color: #00af00; text-decoration-color: #00af00\">1,240,947</span> │\n",
              "└─────────────────────────────────┴────────────────────────┴───────────────┘\n",
              "</pre>\n"
            ]
          },
          "metadata": {}
        },
        {
          "output_type": "display_data",
          "data": {
            "text/plain": [
              "\u001b[1m Total params: \u001b[0m\u001b[38;5;34m22,748,019\u001b[0m (86.78 MB)\n"
            ],
            "text/html": [
              "<pre style=\"white-space:pre;overflow-x:auto;line-height:normal;font-family:Menlo,'DejaVu Sans Mono',consolas,'Courier New',monospace\"><span style=\"font-weight: bold\"> Total params: </span><span style=\"color: #00af00; text-decoration-color: #00af00\">22,748,019</span> (86.78 MB)\n",
              "</pre>\n"
            ]
          },
          "metadata": {}
        },
        {
          "output_type": "display_data",
          "data": {
            "text/plain": [
              "\u001b[1m Trainable params: \u001b[0m\u001b[38;5;34m22,748,019\u001b[0m (86.78 MB)\n"
            ],
            "text/html": [
              "<pre style=\"white-space:pre;overflow-x:auto;line-height:normal;font-family:Menlo,'DejaVu Sans Mono',consolas,'Courier New',monospace\"><span style=\"font-weight: bold\"> Trainable params: </span><span style=\"color: #00af00; text-decoration-color: #00af00\">22,748,019</span> (86.78 MB)\n",
              "</pre>\n"
            ]
          },
          "metadata": {}
        },
        {
          "output_type": "display_data",
          "data": {
            "text/plain": [
              "\u001b[1m Non-trainable params: \u001b[0m\u001b[38;5;34m0\u001b[0m (0.00 B)\n"
            ],
            "text/html": [
              "<pre style=\"white-space:pre;overflow-x:auto;line-height:normal;font-family:Menlo,'DejaVu Sans Mono',consolas,'Courier New',monospace\"><span style=\"font-weight: bold\"> Non-trainable params: </span><span style=\"color: #00af00; text-decoration-color: #00af00\">0</span> (0.00 B)\n",
              "</pre>\n"
            ]
          },
          "metadata": {}
        }
      ]
    },
    {
      "cell_type": "code",
      "source": [
        "model.compile(optimizer='adam',loss='sparse_categorical_crossentropy', metrics=['accuracy'])\n",
        "history=model.fit(trainX,trainY, validation_split =0.2, epochs=10, batch_size=32)"
      ],
      "metadata": {
        "colab": {
          "base_uri": "https://localhost:8080/"
        },
        "id": "WE5zc_vVq4V2",
        "outputId": "f0290f41-0d1e-4d96-fabb-f7e37b067f3f"
      },
      "execution_count": 22,
      "outputs": [
        {
          "output_type": "stream",
          "name": "stdout",
          "text": [
            "Epoch 1/10\n",
            "\u001b[1m59/59\u001b[0m \u001b[32m━━━━━━━━━━━━━━━━━━━━\u001b[0m\u001b[37m\u001b[0m \u001b[1m14s\u001b[0m 72ms/step - accuracy: 0.5380 - loss: 4.4499 - val_accuracy: 0.5856 - val_loss: 3.0450\n",
            "Epoch 2/10\n",
            "\u001b[1m59/59\u001b[0m \u001b[32m━━━━━━━━━━━━━━━━━━━━\u001b[0m\u001b[37m\u001b[0m \u001b[1m3s\u001b[0m 53ms/step - accuracy: 0.5981 - loss: 2.7836 - val_accuracy: 0.5950 - val_loss: 2.8460\n",
            "Epoch 3/10\n",
            "\u001b[1m59/59\u001b[0m \u001b[32m━━━━━━━━━━━━━━━━━━━━\u001b[0m\u001b[37m\u001b[0m \u001b[1m3s\u001b[0m 54ms/step - accuracy: 0.5943 - loss: 2.7970 - val_accuracy: 0.5903 - val_loss: 2.9702\n",
            "Epoch 4/10\n",
            "\u001b[1m59/59\u001b[0m \u001b[32m━━━━━━━━━━━━━━━━━━━━\u001b[0m\u001b[37m\u001b[0m \u001b[1m5s\u001b[0m 52ms/step - accuracy: 0.6022 - loss: 2.7184 - val_accuracy: 0.5910 - val_loss: 2.8921\n",
            "Epoch 5/10\n",
            "\u001b[1m59/59\u001b[0m \u001b[32m━━━━━━━━━━━━━━━━━━━━\u001b[0m\u001b[37m\u001b[0m \u001b[1m3s\u001b[0m 51ms/step - accuracy: 0.6084 - loss: 2.6129 - val_accuracy: 0.5950 - val_loss: 2.8488\n",
            "Epoch 6/10\n",
            "\u001b[1m59/59\u001b[0m \u001b[32m━━━━━━━━━━━━━━━━━━━━\u001b[0m\u001b[37m\u001b[0m \u001b[1m3s\u001b[0m 54ms/step - accuracy: 0.6146 - loss: 2.5041 - val_accuracy: 0.5987 - val_loss: 2.8842\n",
            "Epoch 7/10\n",
            "\u001b[1m59/59\u001b[0m \u001b[32m━━━━━━━━━━━━━━━━━━━━\u001b[0m\u001b[37m\u001b[0m \u001b[1m3s\u001b[0m 51ms/step - accuracy: 0.6123 - loss: 2.5318 - val_accuracy: 0.5990 - val_loss: 2.9087\n",
            "Epoch 8/10\n",
            "\u001b[1m59/59\u001b[0m \u001b[32m━━━━━━━━━━━━━━━━━━━━\u001b[0m\u001b[37m\u001b[0m \u001b[1m3s\u001b[0m 52ms/step - accuracy: 0.6109 - loss: 2.4919 - val_accuracy: 0.5961 - val_loss: 2.8746\n",
            "Epoch 9/10\n",
            "\u001b[1m59/59\u001b[0m \u001b[32m━━━━━━━━━━━━━━━━━━━━\u001b[0m\u001b[37m\u001b[0m \u001b[1m5s\u001b[0m 55ms/step - accuracy: 0.6152 - loss: 2.4076 - val_accuracy: 0.5950 - val_loss: 2.8647\n",
            "Epoch 10/10\n",
            "\u001b[1m59/59\u001b[0m \u001b[32m━━━━━━━━━━━━━━━━━━━━\u001b[0m\u001b[37m\u001b[0m \u001b[1m5s\u001b[0m 53ms/step - accuracy: 0.6147 - loss: 2.3808 - val_accuracy: 0.5911 - val_loss: 2.8961\n"
          ]
        }
      ]
    },
    {
      "cell_type": "code",
      "source": [
        "plt.plot(history.history['accuracy'],color='red',label='train')\n",
        "plt.plot(history.history['val_accuracy'],color='blue',label='validation')\n",
        "plt.legend()\n",
        "plt.show()"
      ],
      "metadata": {
        "colab": {
          "base_uri": "https://localhost:8080/",
          "height": 430
        },
        "id": "hBIMUUv9sckW",
        "outputId": "80fd5016-226c-403f-a51c-01ea3894007e"
      },
      "execution_count": 24,
      "outputs": [
        {
          "output_type": "display_data",
          "data": {
            "text/plain": [
              "<Figure size 640x480 with 1 Axes>"
            ],
            "image/png": "[encoded data removed]"
          },
          "metadata": {}
        }
      ]
    },
    {
      "cell_type": "markdown",
      "source": [
        "since the model overfits this is due to less data and more paramter complexity the model is failig to generalize so lets reduce the complexity ,parameter size ,add regularization and dropouts in efficient way"
      ],
      "metadata": {
        "id": "ECQRgGgt6q_E"
      }
    },
    {
      "cell_type": "code",
      "source": [
        "model = Sequential()\n",
        "# mask-zero tells the model to ignore padding tokens (0) during training\n",
        "model.add(Embedding(hin_vocab,output_dim=128,input_shape=(15,),mask_zero=True,embeddings_regularizer=regularizers.l2(1e-5)))\n",
        "# dropouts in both input and recurrent connections\n",
        "model.add(Bidirectional(LSTM(256, return_sequences=True,kernel_regularizer=regularizers.l2(1e-5),dropout=0.2, recurrent_dropout=0.2)))\n",
        "model.add(LayerNormalization())\n",
        "model.add(Bidirectional(LSTM(256,kernel_regularizer=regularizers.l2(1e-5), dropout=0.2, recurrent_dropout=0.2)))\n",
        "model.add(LayerNormalization())\n",
        "model.add(RepeatVector(15))  # becz the decoder LSTM expects a sequence (with time steps), not just a single vector.\n",
        "# so RepeatVector(n) solves this: It takes that single vector and repeats it n times to create a sequence. to give 15 output words\n",
        "model.add(LSTM(256, return_sequences=True,kernel_regularizer=regularizers.l2(1e-5), dropout=0.3, recurrent_dropout=0.3))\n",
        "model.add(LayerNormalization())\n",
        "model.add(LSTM(256, return_sequences=True,kernel_regularizer=regularizers.l2(1e-5), dropout=0.3, recurrent_dropout=0.3))\n",
        "model.add(Dense(eng_vocab,activation='softmax'))"
      ],
      "metadata": {
        "id": "jj03YDaOLXj2"
      },
      "execution_count": 29,
      "outputs": []
    },
    {
      "cell_type": "code",
      "source": [
        "model.compile(optimizer='adam',loss='sparse_categorical_crossentropy', metrics=['accuracy'])\n",
        "history=model.fit(trainX,trainY, validation_split =0.2, epochs=10, batch_size=32)"
      ],
      "metadata": {
        "colab": {
          "base_uri": "https://localhost:8080/"
        },
        "id": "Q_-P12zh81N1",
        "outputId": "28e9327a-b29c-49aa-8fca-846ee42ab50a"
      },
      "execution_count": 30,
      "outputs": [
        {
          "output_type": "stream",
          "name": "stdout",
          "text": [
            "Epoch 1/10\n",
            "\u001b[1m59/59\u001b[0m \u001b[32m━━━━━━━━━━━━━━━━━━━━\u001b[0m\u001b[37m\u001b[0m \u001b[1m46s\u001b[0m 414ms/step - accuracy: 0.4978 - loss: 4.7532 - val_accuracy: 0.5757 - val_loss: 3.0362\n",
            "Epoch 2/10\n",
            "\u001b[1m59/59\u001b[0m \u001b[32m━━━━━━━━━━━━━━━━━━━━\u001b[0m\u001b[37m\u001b[0m \u001b[1m37s\u001b[0m 371ms/step - accuracy: 0.6021 - loss: 2.8623 - val_accuracy: 0.5900 - val_loss: 2.8808\n",
            "Epoch 3/10\n",
            "\u001b[1m59/59\u001b[0m \u001b[32m━━━━━━━━━━━━━━━━━━━━\u001b[0m\u001b[37m\u001b[0m \u001b[1m22s\u001b[0m 370ms/step - accuracy: 0.5995 - loss: 2.7308 - val_accuracy: 0.5994 - val_loss: 2.8612\n",
            "Epoch 4/10\n",
            "\u001b[1m59/59\u001b[0m \u001b[32m━━━━━━━━━━━━━━━━━━━━\u001b[0m\u001b[37m\u001b[0m \u001b[1m21s\u001b[0m 351ms/step - accuracy: 0.6114 - loss: 2.6165 - val_accuracy: 0.5999 - val_loss: 2.8325\n",
            "Epoch 5/10\n",
            "\u001b[1m59/59\u001b[0m \u001b[32m━━━━━━━━━━━━━━━━━━━━\u001b[0m\u001b[37m\u001b[0m \u001b[1m42s\u001b[0m 371ms/step - accuracy: 0.6115 - loss: 2.5370 - val_accuracy: 0.5949 - val_loss: 2.8204\n",
            "Epoch 6/10\n",
            "\u001b[1m59/59\u001b[0m \u001b[32m━━━━━━━━━━━━━━━━━━━━\u001b[0m\u001b[37m\u001b[0m \u001b[1m41s\u001b[0m 363ms/step - accuracy: 0.6191 - loss: 2.4761 - val_accuracy: 0.5963 - val_loss: 2.8559\n",
            "Epoch 7/10\n",
            "\u001b[1m59/59\u001b[0m \u001b[32m━━━━━━━━━━━━━━━━━━━━\u001b[0m\u001b[37m\u001b[0m \u001b[1m41s\u001b[0m 361ms/step - accuracy: 0.6152 - loss: 2.4972 - val_accuracy: 0.5971 - val_loss: 2.8562\n",
            "Epoch 8/10\n",
            "\u001b[1m59/59\u001b[0m \u001b[32m━━━━━━━━━━━━━━━━━━━━\u001b[0m\u001b[37m\u001b[0m \u001b[1m42s\u001b[0m 373ms/step - accuracy: 0.6181 - loss: 2.4345 - val_accuracy: 0.5991 - val_loss: 2.8463\n",
            "Epoch 9/10\n",
            "\u001b[1m59/59\u001b[0m \u001b[32m━━━━━━━━━━━━━━━━━━━━\u001b[0m\u001b[37m\u001b[0m \u001b[1m40s\u001b[0m 350ms/step - accuracy: 0.6204 - loss: 2.3886 - val_accuracy: 0.5971 - val_loss: 2.8779\n",
            "Epoch 10/10\n",
            "\u001b[1m59/59\u001b[0m \u001b[32m━━━━━━━━━━━━━━━━━━━━\u001b[0m\u001b[37m\u001b[0m \u001b[1m42s\u001b[0m 368ms/step - accuracy: 0.6109 - loss: 2.4294 - val_accuracy: 0.5920 - val_loss: 2.8748\n"
          ]
        }
      ]
    },
    {
      "cell_type": "code",
      "source": [
        "plt.plot(history.history['accuracy'],color='red',label='train')\n",
        "plt.plot(history.history['val_accuracy'],color='blue',label='validation')\n",
        "plt.legend()\n",
        "plt.show()"
      ],
      "metadata": {
        "colab": {
          "base_uri": "https://localhost:8080/",
          "height": 430
        },
        "id": "qFp-HsKU9jyg",
        "outputId": "a7fe43a2-86ef-4833-8d2c-eb28cea8449e"
      },
      "execution_count": 31,
      "outputs": [
        {
          "output_type": "display_data",
          "data": {
            "text/plain": [
              "<Figure size 640x480 with 1 Axes>"
            ],
            "image/png": "[encoded data removed]"
          },
          "metadata": {}
        }
      ]
    },
    {
      "cell_type": "markdown",
      "source": [
        "so therefore we are able to reduce the overfitting , to furthur enhance model we can use Attention Mechanism\n",
        "RepeatVector forces the model to rely on a single compressed vector.\n",
        "\n",
        "With Attention, the decoder dynamically looks at different encoder states.\n",
        "\n",
        "This massively reduces overfitting + improves accuracy."
      ],
      "metadata": {
        "id": "Qp4BlxCF_Wcy"
      }
    },
    {
      "cell_type": "code",
      "source": [
        "# Now lets use deep GRU'S as it reduces the parameters and good for small datasets\n",
        "model = Sequential()\n",
        "model.add(Embedding(hin_vocab,output_dim=128,input_shape=(15,),mask_zero=True,embeddings_regularizer=regularizers.l2(1e-5)))\n",
        "model.add(Bidirectional(GRU(256, return_sequences=True,kernel_regularizer=regularizers.l2(1e-5),dropout=0.2, recurrent_dropout=0.2)))\n",
        "model.add(LayerNormalization())\n",
        "model.add(Bidirectional(GRU(256,kernel_regularizer=regularizers.l2(1e-5), dropout=0.2, recurrent_dropout=0.2)))\n",
        "model.add(LayerNormalization())\n",
        "model.add(RepeatVector(15))\n",
        "model.add(GRU(256, return_sequences=True,kernel_regularizer=regularizers.l2(1e-5), dropout=0.3, recurrent_dropout=0.3))\n",
        "model.add(LayerNormalization())\n",
        "model.add(GRU(256, return_sequences=True,kernel_regularizer=regularizers.l2(1e-5), dropout=0.3, recurrent_dropout=0.3))\n",
        "model.add(Dense(eng_vocab,activation='softmax'))"
      ],
      "metadata": {
        "colab": {
          "base_uri": "https://localhost:8080/"
        },
        "id": "MmUhr9B2_SF1",
        "outputId": "4547fe68-5724-4ddf-a61f-6d3c488a18d3"
      },
      "execution_count": 32,
      "outputs": [
        {
          "output_type": "stream",
          "name": "stderr",
          "text": [
            "/usr/local/lib/python3.12/dist-packages/keras/src/layers/core/embedding.py:100: UserWarning: Do not pass an `input_shape`/`input_dim` argument to a layer. When using Sequential models, prefer using an `Input(shape)` object as the first layer in the model instead.\n",
            "  super().__init__(**kwargs)\n"
          ]
        }
      ]
    },
    {
      "cell_type": "code",
      "source": [
        "model.compile(optimizer='adam',loss='sparse_categorical_crossentropy', metrics=['accuracy'])\n",
        "history=model.fit(trainX,trainY, validation_split =0.2, epochs=10, batch_size=32)"
      ],
      "metadata": {
        "colab": {
          "base_uri": "https://localhost:8080/"
        },
        "id": "9YD4Rr1WAHXG",
        "outputId": "f5865dd6-6e35-4891-dcd5-3f435d470aef"
      },
      "execution_count": 33,
      "outputs": [
        {
          "output_type": "stream",
          "name": "stdout",
          "text": [
            "Epoch 1/10\n",
            "\u001b[1m59/59\u001b[0m \u001b[32m━━━━━━━━━━━━━━━━━━━━\u001b[0m\u001b[37m\u001b[0m \u001b[1m40s\u001b[0m 362ms/step - accuracy: 0.5153 - loss: 4.3233 - val_accuracy: 0.5876 - val_loss: 2.9725\n",
            "Epoch 2/10\n",
            "\u001b[1m59/59\u001b[0m \u001b[32m━━━━━━━━━━━━━━━━━━━━\u001b[0m\u001b[37m\u001b[0m \u001b[1m19s\u001b[0m 320ms/step - accuracy: 0.6001 - loss: 2.7954 - val_accuracy: 0.5916 - val_loss: 2.8576\n",
            "Epoch 3/10\n",
            "\u001b[1m59/59\u001b[0m \u001b[32m━━━━━━━━━━━━━━━━━━━━\u001b[0m\u001b[37m\u001b[0m \u001b[1m20s\u001b[0m 320ms/step - accuracy: 0.6023 - loss: 2.7012 - val_accuracy: 0.5953 - val_loss: 2.8401\n",
            "Epoch 4/10\n",
            "\u001b[1m59/59\u001b[0m \u001b[32m━━━━━━━━━━━━━━━━━━━━\u001b[0m\u001b[37m\u001b[0m \u001b[1m18s\u001b[0m 302ms/step - accuracy: 0.6002 - loss: 2.6935 - val_accuracy: 0.5984 - val_loss: 2.8382\n",
            "Epoch 5/10\n",
            "\u001b[1m59/59\u001b[0m \u001b[32m━━━━━━━━━━━━━━━━━━━━\u001b[0m\u001b[37m\u001b[0m \u001b[1m18s\u001b[0m 313ms/step - accuracy: 0.6118 - loss: 2.5923 - val_accuracy: 0.5970 - val_loss: 2.8433\n",
            "Epoch 6/10\n",
            "\u001b[1m59/59\u001b[0m \u001b[32m━━━━━━━━━━━━━━━━━━━━\u001b[0m\u001b[37m\u001b[0m \u001b[1m20s\u001b[0m 308ms/step - accuracy: 0.6043 - loss: 2.6034 - val_accuracy: 0.5996 - val_loss: 2.8697\n",
            "Epoch 7/10\n",
            "\u001b[1m59/59\u001b[0m \u001b[32m━━━━━━━━━━━━━━━━━━━━\u001b[0m\u001b[37m\u001b[0m \u001b[1m21s\u001b[0m 321ms/step - accuracy: 0.6156 - loss: 2.5214 - val_accuracy: 0.5993 - val_loss: 2.9074\n",
            "Epoch 8/10\n",
            "\u001b[1m59/59\u001b[0m \u001b[32m━━━━━━━━━━━━━━━━━━━━\u001b[0m\u001b[37m\u001b[0m \u001b[1m19s\u001b[0m 300ms/step - accuracy: 0.6085 - loss: 2.5282 - val_accuracy: 0.5964 - val_loss: 2.8456\n",
            "Epoch 9/10\n",
            "\u001b[1m59/59\u001b[0m \u001b[32m━━━━━━━━━━━━━━━━━━━━\u001b[0m\u001b[37m\u001b[0m \u001b[1m20s\u001b[0m 299ms/step - accuracy: 0.6137 - loss: 2.5064 - val_accuracy: 0.5979 - val_loss: 2.8778\n",
            "Epoch 10/10\n",
            "\u001b[1m59/59\u001b[0m \u001b[32m━━━━━━━━━━━━━━━━━━━━\u001b[0m\u001b[37m\u001b[0m \u001b[1m22s\u001b[0m 329ms/step - accuracy: 0.6113 - loss: 2.4890 - val_accuracy: 0.5967 - val_loss: 2.8831\n"
          ]
        }
      ]
    },
    {
      "cell_type": "code",
      "source": [
        "plt.plot(history.history['accuracy'],color='red',label='train')\n",
        "plt.plot(history.history['val_accuracy'],color='blue',label='validation')\n",
        "plt.legend()\n",
        "plt.show()"
      ],
      "metadata": {
        "colab": {
          "base_uri": "https://localhost:8080/",
          "height": 430
        },
        "id": "AqDE97K6AKrT",
        "outputId": "894d8452-fc59-4195-a382-20e6bb59cfb8"
      },
      "execution_count": 34,
      "outputs": [
        {
          "output_type": "display_data",
          "data": {
            "text/plain": [
              "<Figure size 640x480 with 1 Axes>"
            ],
            "image/png": "[encoded data removed]"
          },
          "metadata": {}
        }
      ]
    },
    {
      "cell_type": "markdown",
      "source": [
        "As we can see both the lstm and gru's are performing equally ,so we will go with gru's as our model selection and use the concept similar to early stopping to build a model on it for furthur prediction\n",
        "Here we used deepLSTM/GRU with bidirectional capabilities"
      ],
      "metadata": {
        "id": "_pqIZj1SBXK8"
      }
    },
    {
      "cell_type": "code",
      "source": [
        "# ModelCheckpoint() function to save the model with the lowest validation loss. I personally prefer this method over early stopping.\n",
        "\n",
        "filename = 'baseline.keras'\n",
        "checkpoint = ModelCheckpoint(filename, monitor='val_loss', verbose=1, save_best_only=True, mode='min')\n",
        "\n",
        "model.compile(optimizer='adam',loss='sparse_categorical_crossentropy')\n",
        "history = model.fit(trainX, trainY,epochs=10, batch_size=512, validation_split = 0.2,callbacks=[checkpoint],verbose=1)"
      ],
      "metadata": {
        "colab": {
          "base_uri": "https://localhost:8080/"
        },
        "collapsed": true,
        "id": "eVNUnyzYBOUn",
        "outputId": "f9cfc44f-bc99-4fbc-ad03-839b4d7384d8"
      },
      "execution_count": 42,
      "outputs": [
        {
          "output_type": "stream",
          "name": "stdout",
          "text": [
            "Epoch 1/10\n",
            "\u001b[1m4/4\u001b[0m \u001b[32m━━━━━━━━━━━━━━━━━━━━\u001b[0m\u001b[37m\u001b[0m \u001b[1m0s\u001b[0m 316ms/step - accuracy: 0.6210 - loss: 2.2617\n",
            "Epoch 1: val_loss improved from inf to 3.12999, saving model to baseline.keras\n",
            "\u001b[1m4/4\u001b[0m \u001b[32m━━━━━━━━━━━━━━━━━━━━\u001b[0m\u001b[37m\u001b[0m \u001b[1m23s\u001b[0m 1s/step - accuracy: 0.6204 - loss: 2.2685 - val_accuracy: 0.5846 - val_loss: 3.1300\n",
            "Epoch 2/10\n",
            "\u001b[1m4/4\u001b[0m \u001b[32m━━━━━━━━━━━━━━━━━━━━\u001b[0m\u001b[37m\u001b[0m \u001b[1m0s\u001b[0m 323ms/step - accuracy: 0.6183 - loss: 2.2722\n",
            "Epoch 2: val_loss improved from 3.12999 to 3.08891, saving model to baseline.keras\n",
            "\u001b[1m4/4\u001b[0m \u001b[32m━━━━━━━━━━━━━━━━━━━━\u001b[0m\u001b[37m\u001b[0m \u001b[1m2s\u001b[0m 458ms/step - accuracy: 0.6185 - loss: 2.2719 - val_accuracy: 0.5927 - val_loss: 3.0889\n",
            "Epoch 3/10\n",
            "\u001b[1m4/4\u001b[0m \u001b[32m━━━━━━━━━━━━━━━━━━━━\u001b[0m\u001b[37m\u001b[0m \u001b[1m0s\u001b[0m 547ms/step - accuracy: 0.6181 - loss: 2.2770\n",
            "Epoch 3: val_loss improved from 3.08891 to 3.08805, saving model to baseline.keras\n",
            "\u001b[1m4/4\u001b[0m \u001b[32m━━━━━━━━━━━━━━━━━━━━\u001b[0m\u001b[37m\u001b[0m \u001b[1m3s\u001b[0m 715ms/step - accuracy: 0.6184 - loss: 2.2741 - val_accuracy: 0.5901 - val_loss: 3.0881\n",
            "Epoch 4/10\n",
            "\u001b[1m4/4\u001b[0m \u001b[32m━━━━━━━━━━━━━━━━━━━━\u001b[0m\u001b[37m\u001b[0m \u001b[1m0s\u001b[0m 332ms/step - accuracy: 0.6216 - loss: 2.2451\n",
            "Epoch 4: val_loss improved from 3.08805 to 3.08309, saving model to baseline.keras\n",
            "\u001b[1m4/4\u001b[0m \u001b[32m━━━━━━━━━━━━━━━━━━━━\u001b[0m\u001b[37m\u001b[0m \u001b[1m4s\u001b[0m 474ms/step - accuracy: 0.6213 - loss: 2.2457 - val_accuracy: 0.5884 - val_loss: 3.0831\n",
            "Epoch 5/10\n",
            "\u001b[1m4/4\u001b[0m \u001b[32m━━━━━━━━━━━━━━━━━━━━\u001b[0m\u001b[37m\u001b[0m \u001b[1m0s\u001b[0m 319ms/step - accuracy: 0.6214 - loss: 2.2345\n",
            "Epoch 5: val_loss did not improve from 3.08309\n",
            "\u001b[1m4/4\u001b[0m \u001b[32m━━━━━━━━━━━━━━━━━━━━\u001b[0m\u001b[37m\u001b[0m \u001b[1m2s\u001b[0m 363ms/step - accuracy: 0.6212 - loss: 2.2341 - val_accuracy: 0.5921 - val_loss: 3.0881\n",
            "Epoch 6/10\n",
            "\u001b[1m4/4\u001b[0m \u001b[32m━━━━━━━━━━━━━━━━━━━━\u001b[0m\u001b[37m\u001b[0m \u001b[1m0s\u001b[0m 317ms/step - accuracy: 0.6216 - loss: 2.2208\n",
            "Epoch 6: val_loss did not improve from 3.08309\n",
            "\u001b[1m4/4\u001b[0m \u001b[32m━━━━━━━━━━━━━━━━━━━━\u001b[0m\u001b[37m\u001b[0m \u001b[1m1s\u001b[0m 378ms/step - accuracy: 0.6213 - loss: 2.2215 - val_accuracy: 0.5901 - val_loss: 3.1171\n",
            "Epoch 7/10\n",
            "\u001b[1m4/4\u001b[0m \u001b[32m━━━━━━━━━━━━━━━━━━━━\u001b[0m\u001b[37m\u001b[0m \u001b[1m0s\u001b[0m 320ms/step - accuracy: 0.6229 - loss: 2.2071\n",
            "Epoch 7: val_loss did not improve from 3.08309\n",
            "\u001b[1m4/4\u001b[0m \u001b[32m━━━━━━━━━━━━━━━━━━━━\u001b[0m\u001b[37m\u001b[0m \u001b[1m1s\u001b[0m 380ms/step - accuracy: 0.6224 - loss: 2.2092 - val_accuracy: 0.5897 - val_loss: 3.0979\n",
            "Epoch 8/10\n",
            "\u001b[1m4/4\u001b[0m \u001b[32m━━━━━━━━━━━━━━━━━━━━\u001b[0m\u001b[37m\u001b[0m \u001b[1m0s\u001b[0m 429ms/step - accuracy: 0.6233 - loss: 2.1945\n",
            "Epoch 8: val_loss did not improve from 3.08309\n",
            "\u001b[1m4/4\u001b[0m \u001b[32m━━━━━━━━━━━━━━━━━━━━\u001b[0m\u001b[37m\u001b[0m \u001b[1m3s\u001b[0m 471ms/step - accuracy: 0.6228 - loss: 2.1978 - val_accuracy: 0.5874 - val_loss: 3.1169\n",
            "Epoch 9/10\n",
            "\u001b[1m4/4\u001b[0m \u001b[32m━━━━━━━━━━━━━━━━━━━━\u001b[0m\u001b[37m\u001b[0m \u001b[1m0s\u001b[0m 321ms/step - accuracy: 0.6242 - loss: 2.1895\n",
            "Epoch 9: val_loss did not improve from 3.08309\n",
            "\u001b[1m4/4\u001b[0m \u001b[32m━━━━━━━━━━━━━━━━━━━━\u001b[0m\u001b[37m\u001b[0m \u001b[1m2s\u001b[0m 364ms/step - accuracy: 0.6236 - loss: 2.1929 - val_accuracy: 0.5874 - val_loss: 3.1282\n",
            "Epoch 10/10\n",
            "\u001b[1m4/4\u001b[0m \u001b[32m━━━━━━━━━━━━━━━━━━━━\u001b[0m\u001b[37m\u001b[0m \u001b[1m0s\u001b[0m 316ms/step - accuracy: 0.6190 - loss: 2.2079\n",
            "Epoch 10: val_loss did not improve from 3.08309\n",
            "\u001b[1m4/4\u001b[0m \u001b[32m━━━━━━━━━━━━━━━━━━━━\u001b[0m\u001b[37m\u001b[0m \u001b[1m1s\u001b[0m 376ms/step - accuracy: 0.6194 - loss: 2.2063 - val_accuracy: 0.5893 - val_loss: 3.1532\n"
          ]
        }
      ]
    },
    {
      "cell_type": "code",
      "source": [
        "plt.plot(history.history['accuracy'],color='red',label='train')\n",
        "plt.plot(history.history['val_accuracy'],color='blue',label='validation')\n",
        "plt.legend()\n",
        "plt.show()"
      ],
      "metadata": {
        "colab": {
          "base_uri": "https://localhost:8080/",
          "height": 430
        },
        "id": "1kJZ8WwxDGY5",
        "outputId": "6485d9a7-4994-45c5-f295-ea122407aae7"
      },
      "execution_count": 43,
      "outputs": [
        {
          "output_type": "display_data",
          "data": {
            "text/plain": [
              "<Figure size 640x480 with 1 Axes>"
            ],
            "image/png": "[encoded data removed]"
          },
          "metadata": {}
        }
      ]
    },
    {
      "cell_type": "code",
      "source": [
        "plt.plot(history.history['loss'])\n",
        "plt.plot(history.history['val_loss'])\n",
        "plt.legend(['train','validation'])\n",
        "plt.show()"
      ],
      "metadata": {
        "colab": {
          "base_uri": "https://localhost:8080/",
          "height": 435
        },
        "id": "CMNLJLwkEEE7",
        "outputId": "88b29e9e-5334-4e19-9b07-5b52ed06adbb"
      },
      "execution_count": 44,
      "outputs": [
        {
          "output_type": "display_data",
          "data": {
            "text/plain": [
              "<Figure size 640x480 with 1 Axes>"
            ],
            "image/png": "[encoded data removed]"
          },
          "metadata": {}
        }
      ]
    },
    {
      "cell_type": "markdown",
      "source": [
        "so this is how we deal with textual data using rnn,lstm,gru with their variants like deep lstm/gru and bidirectional lstm/gru with some of the optimization .Though we we were not able to reach to optimal model we can shift to attention mechanism or avoid the use of stacked models and some other techniques to make model generalized using hyperparameter tuning"
      ],
      "metadata": {
        "id": "kfUIAh75Sp_H"
      }
    },
    {
      "cell_type": "code",
      "source": [],
      "metadata": {
        "id": "KxPySTeZE0if"
      },
      "execution_count": null,
      "outputs": []
    }
  ]
}